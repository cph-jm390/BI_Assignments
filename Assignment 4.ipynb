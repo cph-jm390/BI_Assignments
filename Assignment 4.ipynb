{
 "cells": [
  {
   "cell_type": "code",
   "execution_count": null,
   "id": "96b7b575",
   "metadata": {},
   "outputs": [],
   "source": [
    "# import\n",
    "import pandas as pd\n",
    "import numpy as np\n",
    "\n",
    "import seaborn as sns\n",
    "import matplotlib.pyplot as plt\n",
    "%matplotlib inline\n",
    "\n",
    "\n",
    "from sklearn.linear_model import LinearRegression\n",
    "from sklearn.preprocessing import PolynomialFeatures\n",
    "import sklearn.metrics as sm\n",
    "from sklearn.metrics import r2_score\n",
    "from sklearn.model_selection import train_test_split\n",
    "from sklearn import metrics"
   ]
  },
  {
   "cell_type": "code",
   "execution_count": null,
   "id": "820c7fba",
   "metadata": {},
   "outputs": [],
   "source": [
    "df= pd.read_csv('../excercises/Data/diabetes.csv')"
   ]
  },
  {
   "cell_type": "code",
   "execution_count": null,
   "id": "26ce38bf",
   "metadata": {},
   "outputs": [],
   "source": [
    "#checking for null-values\n",
    "df.isnull().sum()\n",
    "#0 null-values"
   ]
  },
  {
   "cell_type": "code",
   "execution_count": null,
   "id": "d2140b36",
   "metadata": {},
   "outputs": [],
   "source": [
    "#idea of general looks of data\n",
    "df.head()"
   ]
  },
  {
   "cell_type": "code",
   "execution_count": null,
   "id": "c9dda366",
   "metadata": {},
   "outputs": [],
   "source": [
    "print(df.describe())"
   ]
  },
  {
   "cell_type": "code",
   "execution_count": null,
   "id": "0ec7e62e",
   "metadata": {},
   "outputs": [],
   "source": [
    "#as the parameter DiabetesPedigreeFunction is such a long typing process a variable is instanciated instead\n",
    "DPF='DiabetesPedigreeFunction'"
   ]
  },
  {
   "cell_type": "code",
   "execution_count": null,
   "id": "8aca6ead",
   "metadata": {},
   "outputs": [],
   "source": [
    "#Making a median of some of the parameters, as there's some 0-values (not null values!) and replacing them in the dataframe\n",
    "median_blood_pressure = df[df['BloodPressure'] != 0]['BloodPressure'].median()\n",
    "\n",
    "df['BloodPressure'] = df['BloodPressure'].replace(0, median_blood_pressure)\n",
    "\n",
    "median_BMI = df[df['BMI'] != 0]['BMI'].median()\n",
    "\n",
    "df['BMI'] = df['BMI'].replace(0, median_BMI)\n",
    "\n",
    "median_insulin = df[df['Insulin'] != 0]['Insulin'].median()\n",
    "\n",
    "df['Insulin'] = df['Insulin'].replace(0, median_insulin)\n",
    "\n",
    "median_glucose = df[df['Glucose'] != 0]['Glucose'].median()\n",
    "\n",
    "df['Glucose'] = df['Glucose'].replace(0, median_glucose)\n",
    "\n",
    "median_skin_thickness = df[df['SkinThickness'] != 0]['SkinThickness'].median()\n",
    "\n",
    "df['SkinThickness'] = df['SkinThickness'].replace(0, median_skin_thickness)\n",
    "\n",
    "\n"
   ]
  },
  {
   "cell_type": "code",
   "execution_count": null,
   "id": "5c780e7c",
   "metadata": {},
   "outputs": [],
   "source": [
    "# Split the data into features and target variable\n",
    "feature_cols = ['Pregnancies','Glucose','BloodPressure','SkinThickness','Insulin','BMI','DiabetesPedigreeFunction','Age']\n",
    "X = df[feature_cols]\n",
    "y = df['Outcome']\n"
   ]
  },
  {
   "cell_type": "code",
   "execution_count": null,
   "id": "54b2ed18",
   "metadata": {},
   "outputs": [],
   "source": [
    "#Which is better?\n",
    "#from sklearn.preprocessing import StandardScaler\n",
    "#sTool = StandardScaler()\n",
    "#X_scaled = sTool.fit_transform(X)\n"
   ]
  },
  {
   "cell_type": "code",
   "execution_count": null,
   "id": "6f5fce69",
   "metadata": {},
   "outputs": [],
   "source": [
    "#X_scaled"
   ]
  },
  {
   "cell_type": "code",
   "execution_count": null,
   "id": "b43985df",
   "metadata": {},
   "outputs": [],
   "source": [
    "X_standardized=(X-X.mean())/X.std()"
   ]
  },
  {
   "cell_type": "code",
   "execution_count": null,
   "id": "1ad7d515",
   "metadata": {},
   "outputs": [],
   "source": []
  }
 ],
 "metadata": {
  "kernelspec": {
   "display_name": "Python 3 (ipykernel)",
   "language": "python",
   "name": "python3"
  },
  "language_info": {
   "codemirror_mode": {
    "name": "ipython",
    "version": 3
   },
   "file_extension": ".py",
   "mimetype": "text/x-python",
   "name": "python",
   "nbconvert_exporter": "python",
   "pygments_lexer": "ipython3",
   "version": "3.11.4"
  }
 },
 "nbformat": 4,
 "nbformat_minor": 5
}
