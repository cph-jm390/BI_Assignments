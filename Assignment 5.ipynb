{
 "cells": [
  {
   "cell_type": "markdown",
   "id": "db6b2137",
   "metadata": {},
   "source": [
    "# Mini Project 5: World Democracy and Freedom"
   ]
  },
  {
   "cell_type": "markdown",
   "id": "55ae059f",
   "metadata": {},
   "source": [
    "### Learning Objective\n",
    "Gaining experience in data preparation, unsupervised machine learning analysis, and visualisation of clusters."
   ]
  },
  {
   "cell_type": "markdown",
   "id": "7eabfdae",
   "metadata": {},
   "source": [
    "### Project Objective\n",
    "For the last 50 years the organisation Freedom House (https://freedomhouse.org) monitors and protects the democracy values, political rights and civil liberties in the world. We would like to get insights about the status of freedom of all countries in 2023."
   ]
  },
  {
   "cell_type": "markdown",
   "id": "2fef38a6",
   "metadata": {},
   "source": [
    "## Tasks"
   ]
  },
  {
   "cell_type": "markdown",
   "id": "6535e1d1",
   "metadata": {},
   "source": [
    "### 1. Research the work of Freedom House and choose some of their data collections, relevant to the objective."
   ]
  },
  {
   "cell_type": "code",
   "execution_count": 172,
   "id": "87c3d8e0",
   "metadata": {},
   "outputs": [],
   "source": [
    "#Imports\n",
    "\n",
    "import numpy as np\n",
    "import pandas as pd\n",
    "import matplotlib.pyplot as plt\n",
    "from sklearn.preprocessing import StandardScaler"
   ]
  },
  {
   "cell_type": "code",
   "execution_count": 173,
   "id": "5c73298c",
   "metadata": {},
   "outputs": [],
   "source": [
    "from sklearn.cluster import KMeans\n",
    "from sklearn import metrics\n",
    "from scipy.spatial.distance import cdist"
   ]
  },
  {
   "cell_type": "code",
   "execution_count": 174,
   "id": "ab2703bf",
   "metadata": {},
   "outputs": [],
   "source": [
    "#df = pd.read_csv('/Users/emiliocastrolagunas/Desktop/Sem4/BI/Notebooks/Data/freedom.csv')\n",
    "df= pd.read_csv('../excercises/Data/freedom.csv')\n",
    "\n"
   ]
  },
  {
   "cell_type": "code",
   "execution_count": 175,
   "id": "0bfbedc7",
   "metadata": {},
   "outputs": [
    {
     "data": {
      "text/html": [
       "<div>\n",
       "<style scoped>\n",
       "    .dataframe tbody tr th:only-of-type {\n",
       "        vertical-align: middle;\n",
       "    }\n",
       "\n",
       "    .dataframe tbody tr th {\n",
       "        vertical-align: top;\n",
       "    }\n",
       "\n",
       "    .dataframe thead th {\n",
       "        text-align: right;\n",
       "    }\n",
       "</style>\n",
       "<table border=\"1\" class=\"dataframe\">\n",
       "  <thead>\n",
       "    <tr style=\"text-align: right;\">\n",
       "      <th></th>\n",
       "      <th>country</th>\n",
       "      <th>1972</th>\n",
       "      <th>1973</th>\n",
       "      <th>1974</th>\n",
       "      <th>1975</th>\n",
       "      <th>1976</th>\n",
       "      <th>1977</th>\n",
       "      <th>1978</th>\n",
       "      <th>1979</th>\n",
       "      <th>1980</th>\n",
       "      <th>...</th>\n",
       "      <th>2009</th>\n",
       "      <th>2010</th>\n",
       "      <th>2011</th>\n",
       "      <th>2012</th>\n",
       "      <th>2013</th>\n",
       "      <th>2014</th>\n",
       "      <th>2015</th>\n",
       "      <th>2016</th>\n",
       "      <th>2017</th>\n",
       "      <th>2018</th>\n",
       "    </tr>\n",
       "  </thead>\n",
       "  <tbody>\n",
       "    <tr>\n",
       "      <th>0</th>\n",
       "      <td>Afghanistan</td>\n",
       "      <td>4.5</td>\n",
       "      <td>6.5</td>\n",
       "      <td>6.5</td>\n",
       "      <td>6.5</td>\n",
       "      <td>6.5</td>\n",
       "      <td>6.0</td>\n",
       "      <td>7.0</td>\n",
       "      <td>7.0</td>\n",
       "      <td>7.0</td>\n",
       "      <td>...</td>\n",
       "      <td>6.0</td>\n",
       "      <td>6.0</td>\n",
       "      <td>6.0</td>\n",
       "      <td>6.0</td>\n",
       "      <td>6.0</td>\n",
       "      <td>6.0</td>\n",
       "      <td>6.0</td>\n",
       "      <td>6.0</td>\n",
       "      <td>5.5</td>\n",
       "      <td>5.5</td>\n",
       "    </tr>\n",
       "    <tr>\n",
       "      <th>1</th>\n",
       "      <td>Albania</td>\n",
       "      <td>7.0</td>\n",
       "      <td>7.0</td>\n",
       "      <td>7.0</td>\n",
       "      <td>7.0</td>\n",
       "      <td>7.0</td>\n",
       "      <td>7.0</td>\n",
       "      <td>7.0</td>\n",
       "      <td>7.0</td>\n",
       "      <td>7.0</td>\n",
       "      <td>...</td>\n",
       "      <td>3.0</td>\n",
       "      <td>3.0</td>\n",
       "      <td>3.0</td>\n",
       "      <td>3.0</td>\n",
       "      <td>3.0</td>\n",
       "      <td>3.0</td>\n",
       "      <td>3.0</td>\n",
       "      <td>3.0</td>\n",
       "      <td>3.0</td>\n",
       "      <td>3.0</td>\n",
       "    </tr>\n",
       "    <tr>\n",
       "      <th>2</th>\n",
       "      <td>Algeria</td>\n",
       "      <td>6.0</td>\n",
       "      <td>6.0</td>\n",
       "      <td>6.0</td>\n",
       "      <td>6.5</td>\n",
       "      <td>6.0</td>\n",
       "      <td>6.0</td>\n",
       "      <td>6.0</td>\n",
       "      <td>6.0</td>\n",
       "      <td>6.0</td>\n",
       "      <td>...</td>\n",
       "      <td>5.5</td>\n",
       "      <td>5.5</td>\n",
       "      <td>5.5</td>\n",
       "      <td>5.5</td>\n",
       "      <td>5.5</td>\n",
       "      <td>5.5</td>\n",
       "      <td>5.5</td>\n",
       "      <td>5.5</td>\n",
       "      <td>5.5</td>\n",
       "      <td>5.5</td>\n",
       "    </tr>\n",
       "    <tr>\n",
       "      <th>3</th>\n",
       "      <td>Andorra</td>\n",
       "      <td>3.5</td>\n",
       "      <td>4.0</td>\n",
       "      <td>4.0</td>\n",
       "      <td>4.0</td>\n",
       "      <td>4.0</td>\n",
       "      <td>NaN</td>\n",
       "      <td>NaN</td>\n",
       "      <td>NaN</td>\n",
       "      <td>NaN</td>\n",
       "      <td>...</td>\n",
       "      <td>1.0</td>\n",
       "      <td>1.0</td>\n",
       "      <td>1.0</td>\n",
       "      <td>1.0</td>\n",
       "      <td>1.0</td>\n",
       "      <td>1.0</td>\n",
       "      <td>1.0</td>\n",
       "      <td>1.0</td>\n",
       "      <td>1.0</td>\n",
       "      <td>1.0</td>\n",
       "    </tr>\n",
       "    <tr>\n",
       "      <th>4</th>\n",
       "      <td>Angola</td>\n",
       "      <td>NaN</td>\n",
       "      <td>NaN</td>\n",
       "      <td>NaN</td>\n",
       "      <td>6.0</td>\n",
       "      <td>6.0</td>\n",
       "      <td>7.0</td>\n",
       "      <td>7.0</td>\n",
       "      <td>7.0</td>\n",
       "      <td>7.0</td>\n",
       "      <td>...</td>\n",
       "      <td>5.5</td>\n",
       "      <td>5.5</td>\n",
       "      <td>5.5</td>\n",
       "      <td>5.5</td>\n",
       "      <td>5.5</td>\n",
       "      <td>5.5</td>\n",
       "      <td>6.0</td>\n",
       "      <td>6.0</td>\n",
       "      <td>6.0</td>\n",
       "      <td>5.5</td>\n",
       "    </tr>\n",
       "  </tbody>\n",
       "</table>\n",
       "<p>5 rows × 48 columns</p>\n",
       "</div>"
      ],
      "text/plain": [
       "       country  1972  1973  1974  1975  1976  1977  1978  1979  1980  ...  \\\n",
       "0  Afghanistan   4.5   6.5   6.5   6.5   6.5   6.0   7.0   7.0   7.0  ...   \n",
       "1      Albania   7.0   7.0   7.0   7.0   7.0   7.0   7.0   7.0   7.0  ...   \n",
       "2      Algeria   6.0   6.0   6.0   6.5   6.0   6.0   6.0   6.0   6.0  ...   \n",
       "3      Andorra   3.5   4.0   4.0   4.0   4.0   NaN   NaN   NaN   NaN  ...   \n",
       "4       Angola   NaN   NaN   NaN   6.0   6.0   7.0   7.0   7.0   7.0  ...   \n",
       "\n",
       "   2009  2010  2011  2012  2013  2014  2015  2016  2017  2018  \n",
       "0   6.0   6.0   6.0   6.0   6.0   6.0   6.0   6.0   5.5   5.5  \n",
       "1   3.0   3.0   3.0   3.0   3.0   3.0   3.0   3.0   3.0   3.0  \n",
       "2   5.5   5.5   5.5   5.5   5.5   5.5   5.5   5.5   5.5   5.5  \n",
       "3   1.0   1.0   1.0   1.0   1.0   1.0   1.0   1.0   1.0   1.0  \n",
       "4   5.5   5.5   5.5   5.5   5.5   5.5   6.0   6.0   6.0   5.5  \n",
       "\n",
       "[5 rows x 48 columns]"
      ]
     },
     "execution_count": 175,
     "metadata": {},
     "output_type": "execute_result"
    }
   ],
   "source": [
    "#idea of general looks of data\n",
    "df.head()"
   ]
  },
  {
   "cell_type": "code",
   "execution_count": 176,
   "id": "e07481a9",
   "metadata": {},
   "outputs": [
    {
     "data": {
      "text/plain": [
       "(193, 48)"
      ]
     },
     "execution_count": 176,
     "metadata": {},
     "output_type": "execute_result"
    }
   ],
   "source": [
    "df.shape"
   ]
  },
  {
   "cell_type": "code",
   "execution_count": 177,
   "id": "0b0a0d61",
   "metadata": {},
   "outputs": [
    {
     "data": {
      "text/plain": [
       "country      0\n",
       "1972        51\n",
       "1973        50\n",
       "1974        48\n",
       "1975        42\n",
       "1976        41\n",
       "1977        45\n",
       "1978        42\n",
       "1979        39\n",
       "1980        38\n",
       "1981        36\n",
       "1982       193\n",
       "1983        35\n",
       "1984        34\n",
       "1985        34\n",
       "1986        34\n",
       "1987        34\n",
       "1988        34\n",
       "1989        33\n",
       "1990        33\n",
       "1991        14\n",
       "1992        10\n",
       "1993         5\n",
       "1994         4\n",
       "1995         4\n",
       "1996         4\n",
       "1997         4\n",
       "1998         4\n",
       "1999         3\n",
       "2000         3\n",
       "2001         3\n",
       "2002         3\n",
       "2003         3\n",
       "2004         3\n",
       "2005         3\n",
       "2006         1\n",
       "2007         1\n",
       "2008         1\n",
       "2009         1\n",
       "2010         1\n",
       "2011         0\n",
       "2012         0\n",
       "2013         0\n",
       "2014         0\n",
       "2015         0\n",
       "2016         0\n",
       "2017         0\n",
       "2018         0\n",
       "dtype: int64"
      ]
     },
     "execution_count": 177,
     "metadata": {},
     "output_type": "execute_result"
    }
   ],
   "source": [
    "#checking for null-values\n",
    "df.isnull().sum()"
   ]
  },
  {
   "cell_type": "markdown",
   "id": "cf0bca35",
   "metadata": {},
   "source": [
    "### 2. Clean and explore the data and prepare it for clustering\n"
   ]
  },
  {
   "cell_type": "code",
   "execution_count": null,
   "id": "df3f0e01",
   "metadata": {},
   "outputs": [],
   "source": [
    "#def replace_zeros_and_nulls_with_median(df, column_name):.\n",
    "#    non_zero_non_null_values = df[column_name][(df[column_name] != 0) & (~df[column_name].isnull())]\n",
    "#    if not non_zero_non_null_values.empty:\n",
    "#        median_value = non_zero_non_null_values.median()\n",
    "#        df[column_name].fillna(median_value, inplace=True)\n",
    "#    return df\n",
    "#years_with_null=['1972', '1973', '1974', '1975', '1976', '1977', '1978', '1979', '1980', '1981', '1982', '1983', '1984', '1985', '1986', '1987', '1988', '1989', '1990', '1991', '1992', '1993', '1994', '1995', '1996', '1997', '1998', '1999', '2000', '2001', '2002', '2003', '2004', '2005', '2006', '2007', '2008', '2009', '2010']\n",
    "#years_with_null\n",
    "#for year_string in years_with_null:\n",
    "     #replace_zeros_and_nulls_with_median(df, year_string)\n",
    "        \n",
    "#df.isnull().sum()"
   ]
  },
  {
   "cell_type": "code",
   "execution_count": null,
   "id": "86c1ff3b",
   "metadata": {},
   "outputs": [],
   "source": [
    "#We would like to explore the differences between 2002 and 2018 as that's the closest to todays reality.\n",
    "#The reason for that choice, is because 9/11 was in 2001. It could be interesting to see an potential impact from that.\n",
    "#On top of that, there's few null values as seen above, so an accurate replacement of nulls is easier.\n"
   ]
  },
  {
   "cell_type": "code",
   "execution_count": 179,
   "id": "8e277fdd",
   "metadata": {},
   "outputs": [
    {
     "data": {
      "text/html": [
       "<div>\n",
       "<style scoped>\n",
       "    .dataframe tbody tr th:only-of-type {\n",
       "        vertical-align: middle;\n",
       "    }\n",
       "\n",
       "    .dataframe tbody tr th {\n",
       "        vertical-align: top;\n",
       "    }\n",
       "\n",
       "    .dataframe thead th {\n",
       "        text-align: right;\n",
       "    }\n",
       "</style>\n",
       "<table border=\"1\" class=\"dataframe\">\n",
       "  <thead>\n",
       "    <tr style=\"text-align: right;\">\n",
       "      <th></th>\n",
       "      <th>2002</th>\n",
       "      <th>2018</th>\n",
       "    </tr>\n",
       "  </thead>\n",
       "  <tbody>\n",
       "    <tr>\n",
       "      <th>count</th>\n",
       "      <td>190.000000</td>\n",
       "      <td>193.000000</td>\n",
       "    </tr>\n",
       "    <tr>\n",
       "      <th>mean</th>\n",
       "      <td>3.386842</td>\n",
       "      <td>3.422280</td>\n",
       "    </tr>\n",
       "    <tr>\n",
       "      <th>std</th>\n",
       "      <td>1.965061</td>\n",
       "      <td>2.031438</td>\n",
       "    </tr>\n",
       "    <tr>\n",
       "      <th>min</th>\n",
       "      <td>1.000000</td>\n",
       "      <td>1.000000</td>\n",
       "    </tr>\n",
       "    <tr>\n",
       "      <th>25%</th>\n",
       "      <td>1.500000</td>\n",
       "      <td>1.500000</td>\n",
       "    </tr>\n",
       "    <tr>\n",
       "      <th>50%</th>\n",
       "      <td>3.000000</td>\n",
       "      <td>3.000000</td>\n",
       "    </tr>\n",
       "    <tr>\n",
       "      <th>75%</th>\n",
       "      <td>5.500000</td>\n",
       "      <td>5.500000</td>\n",
       "    </tr>\n",
       "    <tr>\n",
       "      <th>max</th>\n",
       "      <td>7.000000</td>\n",
       "      <td>7.000000</td>\n",
       "    </tr>\n",
       "  </tbody>\n",
       "</table>\n",
       "</div>"
      ],
      "text/plain": [
       "             2002        2018\n",
       "count  190.000000  193.000000\n",
       "mean     3.386842    3.422280\n",
       "std      1.965061    2.031438\n",
       "min      1.000000    1.000000\n",
       "25%      1.500000    1.500000\n",
       "50%      3.000000    3.000000\n",
       "75%      5.500000    5.500000\n",
       "max      7.000000    7.000000"
      ]
     },
     "execution_count": 179,
     "metadata": {},
     "output_type": "execute_result"
    }
   ],
   "source": [
    "columns_to_include = [31, 47]\n",
    "\n",
    "# Read the CSV file while including only the specified columns\n",
    "dfa = pd.read_csv('../excercises/Data/freedom.csv', usecols=columns_to_include)\n",
    "dfa.describe()"
   ]
  },
  {
   "cell_type": "code",
   "execution_count": 180,
   "id": "6dcbb09c",
   "metadata": {},
   "outputs": [
    {
     "data": {
      "text/plain": [
       "2002    0\n",
       "2018    0\n",
       "dtype: int64"
      ]
     },
     "execution_count": 180,
     "metadata": {},
     "output_type": "execute_result"
    }
   ],
   "source": [
    "median_2002 = dfa['2002'].median()\n",
    "dfa['2002'].fillna(median_2002, inplace=True)\n",
    "dfa.isnull().sum()"
   ]
  },
  {
   "cell_type": "code",
   "execution_count": 181,
   "id": "5686f833",
   "metadata": {},
   "outputs": [
    {
     "data": {
      "text/html": [
       "<div>\n",
       "<style scoped>\n",
       "    .dataframe tbody tr th:only-of-type {\n",
       "        vertical-align: middle;\n",
       "    }\n",
       "\n",
       "    .dataframe tbody tr th {\n",
       "        vertical-align: top;\n",
       "    }\n",
       "\n",
       "    .dataframe thead th {\n",
       "        text-align: right;\n",
       "    }\n",
       "</style>\n",
       "<table border=\"1\" class=\"dataframe\">\n",
       "  <thead>\n",
       "    <tr style=\"text-align: right;\">\n",
       "      <th></th>\n",
       "      <th>2002</th>\n",
       "      <th>2018</th>\n",
       "    </tr>\n",
       "  </thead>\n",
       "  <tbody>\n",
       "    <tr>\n",
       "      <th>0</th>\n",
       "      <td>6.0</td>\n",
       "      <td>5.5</td>\n",
       "    </tr>\n",
       "    <tr>\n",
       "      <th>1</th>\n",
       "      <td>3.0</td>\n",
       "      <td>3.0</td>\n",
       "    </tr>\n",
       "    <tr>\n",
       "      <th>2</th>\n",
       "      <td>5.5</td>\n",
       "      <td>5.5</td>\n",
       "    </tr>\n",
       "    <tr>\n",
       "      <th>3</th>\n",
       "      <td>1.0</td>\n",
       "      <td>1.0</td>\n",
       "    </tr>\n",
       "    <tr>\n",
       "      <th>4</th>\n",
       "      <td>5.5</td>\n",
       "      <td>5.5</td>\n",
       "    </tr>\n",
       "  </tbody>\n",
       "</table>\n",
       "</div>"
      ],
      "text/plain": [
       "   2002  2018\n",
       "0   6.0   5.5\n",
       "1   3.0   3.0\n",
       "2   5.5   5.5\n",
       "3   1.0   1.0\n",
       "4   5.5   5.5"
      ]
     },
     "execution_count": 181,
     "metadata": {},
     "output_type": "execute_result"
    }
   ],
   "source": [
    "dfa.head()"
   ]
  },
  {
   "cell_type": "markdown",
   "id": "4914b3a3",
   "metadata": {},
   "source": [
    "### 3. Choose an unsupervised ML algorithm and apply it to create clusters of countries, based on their freedom assessment measure."
   ]
  },
  {
   "cell_type": "code",
   "execution_count": 183,
   "id": "a42ef3b0",
   "metadata": {},
   "outputs": [
    {
     "data": {
      "text/plain": [
       "array([[6. , 5.5],\n",
       "       [3. , 3. ],\n",
       "       [5.5, 5.5],\n",
       "       [1. , 1. ],\n",
       "       [5.5, 5.5],\n",
       "       [3. , 2. ],\n",
       "       [3. , 2. ],\n",
       "       [4. , 4. ],\n",
       "       [1. , 1. ],\n",
       "       [1. , 1. ],\n",
       "       [5.5, 6.5],\n",
       "       [1. , 1. ],\n",
       "       [5. , 6.5],\n",
       "       [4. , 5. ],\n",
       "       [1. , 1. ],\n",
       "       [6. , 6.5],\n",
       "       [1. , 1. ],\n",
       "       [1.5, 1.5],\n",
       "       [2.5, 2. ],\n",
       "       [5.5, 3.5],\n",
       "       [2.5, 3. ],\n",
       "       [4. , 4. ],\n",
       "       [2. , 2.5],\n",
       "       [2.5, 2. ],\n",
       "       [5.5, 5.5],\n",
       "       [1.5, 2. ],\n",
       "       [4. , 3.5],\n",
       "       [5.5, 6.5],\n",
       "       [5.5, 5.5],\n",
       "       [6. , 6. ],\n",
       "       [1. , 1. ],\n",
       "       [1.5, 1. ],\n",
       "       [5. , 7. ],\n",
       "       [5.5, 6.5],\n",
       "       [1.5, 1. ],\n",
       "       [6.5, 6.5],\n",
       "       [4. , 3. ],\n",
       "       [4.5, 4. ],\n",
       "       [6. , 6.5],\n",
       "       [5. , 6. ],\n",
       "       [1.5, 1. ],\n",
       "       [6. , 4. ],\n",
       "       [2. , 1.5],\n",
       "       [7. , 6.5],\n",
       "       [1. , 1. ],\n",
       "       [1.5, 1. ],\n",
       "       [1. , 1. ],\n",
       "       [4.5, 5.5],\n",
       "       [1. , 1. ],\n",
       "       [2. , 3. ],\n",
       "       [3. , 3. ],\n",
       "       [6. , 6. ],\n",
       "       [2.5, 2.5],\n",
       "       [6.5, 7. ],\n",
       "       [6.5, 7. ],\n",
       "       [1.5, 1. ],\n",
       "       [5.5, 6.5],\n",
       "       [5. , 6. ],\n",
       "       [3.5, 3. ],\n",
       "       [1. , 1. ],\n",
       "       [1. , 1.5],\n",
       "       [4.5, 6. ],\n",
       "       [4. , 4.5],\n",
       "       [4. , 3. ],\n",
       "       [1. , 1. ],\n",
       "       [2.5, 1.5],\n",
       "       [1.5, 1.5],\n",
       "       [1.5, 1.5],\n",
       "       [4. , 4. ],\n",
       "       [5.5, 4.5],\n",
       "       [4.5, 4.5],\n",
       "       [2. , 2.5],\n",
       "       [6. , 5. ],\n",
       "       [3. , 4. ],\n",
       "       [1.5, 3. ],\n",
       "       [1. , 1. ],\n",
       "       [2.5, 2.5],\n",
       "       [3.5, 3. ],\n",
       "       [6. , 6. ],\n",
       "       [7. , 5.5],\n",
       "       [1. , 1. ],\n",
       "       [2. , 2.5],\n",
       "       [1. , 1. ],\n",
       "       [2.5, 2. ],\n",
       "       [1.5, 1. ],\n",
       "       [5.5, 5. ],\n",
       "       [5.5, 6. ],\n",
       "       [4. , 4. ],\n",
       "       [1. , 1. ],\n",
       "       [4.5, 5. ],\n",
       "       [5.5, 4.5],\n",
       "       [6.5, 6.5],\n",
       "       [1.5, 2. ],\n",
       "       [5.5, 4.5],\n",
       "       [2.5, 3. ],\n",
       "       [6. , 3. ],\n",
       "       [7. , 6.5],\n",
       "       [1. , 1.5],\n",
       "       [1.5, 1. ],\n",
       "       [1. , 1. ],\n",
       "       [3.5, 3.5],\n",
       "       [4. , 3. ],\n",
       "       [5. , 4. ],\n",
       "       [5.5, 5. ],\n",
       "       [2.5, 4. ],\n",
       "       [1. , 1.5],\n",
       "       [1. , 1. ],\n",
       "       [5. , 5.5],\n",
       "       [1.5, 1.5],\n",
       "       [2. , 3. ],\n",
       "       [1.5, 1. ],\n",
       "       [3.5, 3.5],\n",
       "       [1.5, 2. ],\n",
       "       [2. , 1.5],\n",
       "       [3. , 3.5],\n",
       "       [5. , 5. ],\n",
       "       [3.5, 4. ],\n",
       "       [7. , 5. ],\n",
       "       [2.5, 2.5],\n",
       "       [1.5, 2. ],\n",
       "       [4. , 3.5],\n",
       "       [1. , 1. ],\n",
       "       [1. , 1. ],\n",
       "       [3. , 5.5],\n",
       "       [4. , 4. ],\n",
       "       [4.5, 4. ],\n",
       "       [7. , 7. ],\n",
       "       [3. , 3.5],\n",
       "       [1. , 1. ],\n",
       "       [5.5, 5.5],\n",
       "       [5.5, 5. ],\n",
       "       [1.5, 1. ],\n",
       "       [1.5, 1.5],\n",
       "       [2.5, 3.5],\n",
       "       [3.5, 3. ],\n",
       "       [2.5, 2.5],\n",
       "       [2.5, 3. ],\n",
       "       [1.5, 2. ],\n",
       "       [1. , 1. ],\n",
       "       [6. , 5.5],\n",
       "       [2. , 2. ],\n",
       "       [5. , 6.5],\n",
       "       [6. , 6. ],\n",
       "       [2. , 2. ],\n",
       "       [1. , 1. ],\n",
       "       [1.5, 2. ],\n",
       "       [7. , 7. ],\n",
       "       [2.5, 2.5],\n",
       "       [3. , 3. ],\n",
       "       [3. , 3. ],\n",
       "       [4. , 3. ],\n",
       "       [4.5, 4. ],\n",
       "       [1.5, 1.5],\n",
       "       [1. , 1. ],\n",
       "       [3. , 2. ],\n",
       "       [6.5, 7. ],\n",
       "       [1.5, 2. ],\n",
       "       [2. , 2. ],\n",
       "       [3. , 7. ],\n",
       "       [1. , 1. ],\n",
       "       [3.5, 3.5],\n",
       "       [1.5, 1. ],\n",
       "       [1.5, 1. ],\n",
       "       [1.5, 1. ],\n",
       "       [7. , 7. ],\n",
       "       [1.5, 2.5],\n",
       "       [1. , 1. ],\n",
       "       [1. , 1. ],\n",
       "       [7. , 7. ],\n",
       "       [5.5, 6.5],\n",
       "       [3.5, 4.5],\n",
       "       [2.5, 6. ],\n",
       "       [3. , 2.5],\n",
       "       [5.5, 4.5],\n",
       "       [4. , 2. ],\n",
       "       [3. , 2. ],\n",
       "       [5.5, 2.5],\n",
       "       [3.5, 5.5],\n",
       "       [7. , 7. ],\n",
       "       [1. , 1. ],\n",
       "       [5. , 5.5],\n",
       "       [4. , 3.5],\n",
       "       [5.5, 6.5],\n",
       "       [1. , 1. ],\n",
       "       [1. , 1.5],\n",
       "       [1. , 1. ],\n",
       "       [6.5, 6.5],\n",
       "       [1.5, 2. ],\n",
       "       [3.5, 6.5],\n",
       "       [6.5, 6. ],\n",
       "       [5.5, 6.5],\n",
       "       [4. , 4. ],\n",
       "       [6. , 5. ]])"
      ]
     },
     "execution_count": 183,
     "metadata": {},
     "output_type": "execute_result"
    }
   ],
   "source": [
    "x=dfa\n",
    "X=x.values\n",
    "X"
   ]
  },
  {
   "cell_type": "code",
   "execution_count": 184,
   "id": "835446d7",
   "metadata": {},
   "outputs": [
    {
     "data": {
      "image/png": "[encoded data removed]",
      "text/plain": [
       "<Figure size 640x480 with 1 Axes>"
      ]
     },
     "metadata": {},
     "output_type": "display_data"
    }
   ],
   "source": [
    "# Plot the input data\n",
    "# a. creates a frame\n",
    "plt.figure()\n",
    "plt.title('Input data')\n",
    "\n",
    "# b. get the range of X and Y (long way)\n",
    "# first column\n",
    "x_min = X[:,0].min()\n",
    "x_max = X[:,0].max()\n",
    "\n",
    "# second column\n",
    "y_min = X[:,1].min()\n",
    "y_max = X[:,1].max()\n",
    "\n",
    "# same as above: get the range of X and Y (shorter way)\n",
    "# x_min, x_max = X[:,0].min(), X[:,0].max()\n",
    "# y_min, y_max = X[:,1].min(), X[:,1].max()\n",
    "\n",
    "# c. set plot limits\n",
    "plt.xlim(x_min - 1, x_max + 1)\n",
    "plt.ylim(y_min - 1, y_max + 1)\n",
    "\n",
    "# scatterplot of the points\n",
    "plt.scatter(X[:,0], X[:,1], marker='o', facecolors='none', edgecolors='black', s=30)\n",
    "\n",
    "plt.show()"
   ]
  },
  {
   "cell_type": "code",
   "execution_count": 185,
   "id": "f1434fa9",
   "metadata": {},
   "outputs": [
    {
     "name": "stderr",
     "output_type": "stream",
     "text": [
      "C:\\Users\\Johan\\anaconda3\\Lib\\site-packages\\sklearn\\cluster\\_kmeans.py:1412: FutureWarning: The default value of `n_init` will change from 10 to 'auto' in 1.4. Set the value of `n_init` explicitly to suppress the warning\n",
      "  super()._check_params_vs_input(X, default_n_init=10)\n",
      "C:\\Users\\Johan\\anaconda3\\Lib\\site-packages\\sklearn\\cluster\\_kmeans.py:1436: UserWarning: KMeans is known to have a memory leak on Windows with MKL, when there are less chunks than available threads. You can avoid it by setting the environment variable OMP_NUM_THREADS=1.\n",
      "  warnings.warn(\n",
      "C:\\Users\\Johan\\anaconda3\\Lib\\site-packages\\sklearn\\cluster\\_kmeans.py:1412: FutureWarning: The default value of `n_init` will change from 10 to 'auto' in 1.4. Set the value of `n_init` explicitly to suppress the warning\n",
      "  super()._check_params_vs_input(X, default_n_init=10)\n",
      "C:\\Users\\Johan\\anaconda3\\Lib\\site-packages\\sklearn\\cluster\\_kmeans.py:1436: UserWarning: KMeans is known to have a memory leak on Windows with MKL, when there are less chunks than available threads. You can avoid it by setting the environment variable OMP_NUM_THREADS=1.\n",
      "  warnings.warn(\n",
      "C:\\Users\\Johan\\anaconda3\\Lib\\site-packages\\sklearn\\cluster\\_kmeans.py:1412: FutureWarning: The default value of `n_init` will change from 10 to 'auto' in 1.4. Set the value of `n_init` explicitly to suppress the warning\n",
      "  super()._check_params_vs_input(X, default_n_init=10)\n",
      "C:\\Users\\Johan\\anaconda3\\Lib\\site-packages\\sklearn\\cluster\\_kmeans.py:1436: UserWarning: KMeans is known to have a memory leak on Windows with MKL, when there are less chunks than available threads. You can avoid it by setting the environment variable OMP_NUM_THREADS=1.\n",
      "  warnings.warn(\n",
      "C:\\Users\\Johan\\anaconda3\\Lib\\site-packages\\sklearn\\cluster\\_kmeans.py:1412: FutureWarning: The default value of `n_init` will change from 10 to 'auto' in 1.4. Set the value of `n_init` explicitly to suppress the warning\n",
      "  super()._check_params_vs_input(X, default_n_init=10)\n",
      "C:\\Users\\Johan\\anaconda3\\Lib\\site-packages\\sklearn\\cluster\\_kmeans.py:1436: UserWarning: KMeans is known to have a memory leak on Windows with MKL, when there are less chunks than available threads. You can avoid it by setting the environment variable OMP_NUM_THREADS=1.\n",
      "  warnings.warn(\n",
      "C:\\Users\\Johan\\anaconda3\\Lib\\site-packages\\sklearn\\cluster\\_kmeans.py:1412: FutureWarning: The default value of `n_init` will change from 10 to 'auto' in 1.4. Set the value of `n_init` explicitly to suppress the warning\n",
      "  super()._check_params_vs_input(X, default_n_init=10)\n",
      "C:\\Users\\Johan\\anaconda3\\Lib\\site-packages\\sklearn\\cluster\\_kmeans.py:1436: UserWarning: KMeans is known to have a memory leak on Windows with MKL, when there are less chunks than available threads. You can avoid it by setting the environment variable OMP_NUM_THREADS=1.\n",
      "  warnings.warn(\n",
      "C:\\Users\\Johan\\anaconda3\\Lib\\site-packages\\sklearn\\cluster\\_kmeans.py:1412: FutureWarning: The default value of `n_init` will change from 10 to 'auto' in 1.4. Set the value of `n_init` explicitly to suppress the warning\n",
      "  super()._check_params_vs_input(X, default_n_init=10)\n",
      "C:\\Users\\Johan\\anaconda3\\Lib\\site-packages\\sklearn\\cluster\\_kmeans.py:1436: UserWarning: KMeans is known to have a memory leak on Windows with MKL, when there are less chunks than available threads. You can avoid it by setting the environment variable OMP_NUM_THREADS=1.\n",
      "  warnings.warn(\n",
      "C:\\Users\\Johan\\anaconda3\\Lib\\site-packages\\sklearn\\cluster\\_kmeans.py:1412: FutureWarning: The default value of `n_init` will change from 10 to 'auto' in 1.4. Set the value of `n_init` explicitly to suppress the warning\n",
      "  super()._check_params_vs_input(X, default_n_init=10)\n",
      "C:\\Users\\Johan\\anaconda3\\Lib\\site-packages\\sklearn\\cluster\\_kmeans.py:1436: UserWarning: KMeans is known to have a memory leak on Windows with MKL, when there are less chunks than available threads. You can avoid it by setting the environment variable OMP_NUM_THREADS=1.\n",
      "  warnings.warn(\n",
      "C:\\Users\\Johan\\anaconda3\\Lib\\site-packages\\sklearn\\cluster\\_kmeans.py:1412: FutureWarning: The default value of `n_init` will change from 10 to 'auto' in 1.4. Set the value of `n_init` explicitly to suppress the warning\n",
      "  super()._check_params_vs_input(X, default_n_init=10)\n",
      "C:\\Users\\Johan\\anaconda3\\Lib\\site-packages\\sklearn\\cluster\\_kmeans.py:1436: UserWarning: KMeans is known to have a memory leak on Windows with MKL, when there are less chunks than available threads. You can avoid it by setting the environment variable OMP_NUM_THREADS=1.\n",
      "  warnings.warn(\n",
      "C:\\Users\\Johan\\anaconda3\\Lib\\site-packages\\sklearn\\cluster\\_kmeans.py:1412: FutureWarning: The default value of `n_init` will change from 10 to 'auto' in 1.4. Set the value of `n_init` explicitly to suppress the warning\n",
      "  super()._check_params_vs_input(X, default_n_init=10)\n",
      "C:\\Users\\Johan\\anaconda3\\Lib\\site-packages\\sklearn\\cluster\\_kmeans.py:1436: UserWarning: KMeans is known to have a memory leak on Windows with MKL, when there are less chunks than available threads. You can avoid it by setting the environment variable OMP_NUM_THREADS=1.\n",
      "  warnings.warn(\n",
      "C:\\Users\\Johan\\anaconda3\\Lib\\site-packages\\sklearn\\cluster\\_kmeans.py:1412: FutureWarning: The default value of `n_init` will change from 10 to 'auto' in 1.4. Set the value of `n_init` explicitly to suppress the warning\n",
      "  super()._check_params_vs_input(X, default_n_init=10)\n",
      "C:\\Users\\Johan\\anaconda3\\Lib\\site-packages\\sklearn\\cluster\\_kmeans.py:1436: UserWarning: KMeans is known to have a memory leak on Windows with MKL, when there are less chunks than available threads. You can avoid it by setting the environment variable OMP_NUM_THREADS=1.\n",
      "  warnings.warn(\n",
      "C:\\Users\\Johan\\anaconda3\\Lib\\site-packages\\sklearn\\cluster\\_kmeans.py:1412: FutureWarning: The default value of `n_init` will change from 10 to 'auto' in 1.4. Set the value of `n_init` explicitly to suppress the warning\n",
      "  super()._check_params_vs_input(X, default_n_init=10)\n",
      "C:\\Users\\Johan\\anaconda3\\Lib\\site-packages\\sklearn\\cluster\\_kmeans.py:1436: UserWarning: KMeans is known to have a memory leak on Windows with MKL, when there are less chunks than available threads. You can avoid it by setting the environment variable OMP_NUM_THREADS=1.\n",
      "  warnings.warn(\n",
      "C:\\Users\\Johan\\anaconda3\\Lib\\site-packages\\sklearn\\cluster\\_kmeans.py:1412: FutureWarning: The default value of `n_init` will change from 10 to 'auto' in 1.4. Set the value of `n_init` explicitly to suppress the warning\n",
      "  super()._check_params_vs_input(X, default_n_init=10)\n",
      "C:\\Users\\Johan\\anaconda3\\Lib\\site-packages\\sklearn\\cluster\\_kmeans.py:1436: UserWarning: KMeans is known to have a memory leak on Windows with MKL, when there are less chunks than available threads. You can avoid it by setting the environment variable OMP_NUM_THREADS=1.\n",
      "  warnings.warn(\n",
      "C:\\Users\\Johan\\anaconda3\\Lib\\site-packages\\sklearn\\cluster\\_kmeans.py:1412: FutureWarning: The default value of `n_init` will change from 10 to 'auto' in 1.4. Set the value of `n_init` explicitly to suppress the warning\n",
      "  super()._check_params_vs_input(X, default_n_init=10)\n",
      "C:\\Users\\Johan\\anaconda3\\Lib\\site-packages\\sklearn\\cluster\\_kmeans.py:1436: UserWarning: KMeans is known to have a memory leak on Windows with MKL, when there are less chunks than available threads. You can avoid it by setting the environment variable OMP_NUM_THREADS=1.\n",
      "  warnings.warn(\n",
      "C:\\Users\\Johan\\anaconda3\\Lib\\site-packages\\sklearn\\cluster\\_kmeans.py:1412: FutureWarning: The default value of `n_init` will change from 10 to 'auto' in 1.4. Set the value of `n_init` explicitly to suppress the warning\n",
      "  super()._check_params_vs_input(X, default_n_init=10)\n",
      "C:\\Users\\Johan\\anaconda3\\Lib\\site-packages\\sklearn\\cluster\\_kmeans.py:1436: UserWarning: KMeans is known to have a memory leak on Windows with MKL, when there are less chunks than available threads. You can avoid it by setting the environment variable OMP_NUM_THREADS=1.\n",
      "  warnings.warn(\n",
      "C:\\Users\\Johan\\anaconda3\\Lib\\site-packages\\sklearn\\cluster\\_kmeans.py:1412: FutureWarning: The default value of `n_init` will change from 10 to 'auto' in 1.4. Set the value of `n_init` explicitly to suppress the warning\n",
      "  super()._check_params_vs_input(X, default_n_init=10)\n",
      "C:\\Users\\Johan\\anaconda3\\Lib\\site-packages\\sklearn\\cluster\\_kmeans.py:1436: UserWarning: KMeans is known to have a memory leak on Windows with MKL, when there are less chunks than available threads. You can avoid it by setting the environment variable OMP_NUM_THREADS=1.\n",
      "  warnings.warn(\n"
     ]
    },
    {
     "name": "stderr",
     "output_type": "stream",
     "text": [
      "C:\\Users\\Johan\\anaconda3\\Lib\\site-packages\\sklearn\\cluster\\_kmeans.py:1412: FutureWarning: The default value of `n_init` will change from 10 to 'auto' in 1.4. Set the value of `n_init` explicitly to suppress the warning\n",
      "  super()._check_params_vs_input(X, default_n_init=10)\n",
      "C:\\Users\\Johan\\anaconda3\\Lib\\site-packages\\sklearn\\cluster\\_kmeans.py:1436: UserWarning: KMeans is known to have a memory leak on Windows with MKL, when there are less chunks than available threads. You can avoid it by setting the environment variable OMP_NUM_THREADS=1.\n",
      "  warnings.warn(\n"
     ]
    },
    {
     "name": "stdout",
     "output_type": "stream",
     "text": [
      "Distortion:  [1.2573292914038683, 0.889557187134443, 0.7505793480800359, 0.651011705310853, 0.6019597531417885, 0.5545899877753973, 0.4899085065121371, 0.48149804296791504]\n"
     ]
    }
   ],
   "source": [
    "# Determine k by minimizing the distortion - \n",
    "# the sum of the squared distances between each observation vector and its centroid\n",
    "distortions = []\n",
    "K = range(2,10)\n",
    "for k in K:\n",
    "    model = KMeans(n_clusters=k).fit(X)\n",
    "    model.fit(X)\n",
    "    distortions.append(sum(np.min(cdist(X, model.cluster_centers_, 'euclidean'), axis=1)) / X.shape[0]) \n",
    "print(\"Distortion: \", distortions)"
   ]
  },
  {
   "cell_type": "code",
   "execution_count": 186,
   "id": "f90f8f6d",
   "metadata": {},
   "outputs": [
    {
     "data": {
      "image/png": "[encoded data removed]",
      "text/plain": [
       "<Figure size 640x480 with 1 Axes>"
      ]
     },
     "metadata": {},
     "output_type": "display_data"
    }
   ],
   "source": [
    "# Plot the elbow\n",
    "plt.title('Elbow Method for Optimal K')\n",
    "plt.plot(K, distortions, 'bx-')\n",
    "plt.xlabel('K')\n",
    "plt.ylabel('Distortion')\n",
    "plt.show()"
   ]
  },
  {
   "cell_type": "code",
   "execution_count": null,
   "id": "e3ea8a99",
   "metadata": {},
   "outputs": [],
   "source": [
    "# Determine k by maximising the silhouette score for each number of clusters\n",
    "scores = []\n",
    "K = range(2,10)\n",
    "for k in K:\n",
    "    model = KMeans(n_clusters=k).fit(X)\n",
    "    model.fit(X)\n",
    "    score = metrics.silhouette_score(X, model.labels_, metric='euclidean', sample_size=len(X))\n",
    "    print(\"\\nNumber of clusters =\", k)\n",
    "    print(\"Silhouette score =\", score)\n",
    "    scores.append(score)"
   ]
  },
  {
   "cell_type": "code",
   "execution_count": 223,
   "id": "d835f60d",
   "metadata": {},
   "outputs": [],
   "source": [
    "num_clusters=3"
   ]
  },
  {
   "cell_type": "code",
   "execution_count": 224,
   "id": "366f4190",
   "metadata": {},
   "outputs": [],
   "source": [
    "# Create an instance of KMeans classifier\n",
    "kmeans = KMeans(init='k-means++', n_clusters=num_clusters, n_init=20)\n",
    "# init: method of experimemtal finding the initial location of the centroids\n",
    "# n_init: the algorithm will run n_init times with different cetroids and the best result of those will be taken"
   ]
  },
  {
   "cell_type": "code",
   "execution_count": 225,
   "id": "cb1b176e",
   "metadata": {},
   "outputs": [
    {
     "name": "stderr",
     "output_type": "stream",
     "text": [
      "C:\\Users\\Johan\\anaconda3\\Lib\\site-packages\\sklearn\\cluster\\_kmeans.py:1436: UserWarning: KMeans is known to have a memory leak on Windows with MKL, when there are less chunks than available threads. You can avoid it by setting the environment variable OMP_NUM_THREADS=1.\n",
      "  warnings.warn(\n"
     ]
    },
    {
     "data": {
      "text/html": [
       "<style>#sk-container-id-5 {color: black;}#sk-container-id-5 pre{padding: 0;}#sk-container-id-5 div.sk-toggleable {background-color: white;}#sk-container-id-5 label.sk-toggleable__label {cursor: pointer;display: block;width: 100%;margin-bottom: 0;padding: 0.3em;box-sizing: border-box;text-align: center;}#sk-container-id-5 label.sk-toggleable__label-arrow:before {content: \"▸\";float: left;margin-right: 0.25em;color: #696969;}#sk-container-id-5 label.sk-toggleable__label-arrow:hover:before {color: black;}#sk-container-id-5 div.sk-estimator:hover label.sk-toggleable__label-arrow:before {color: black;}#sk-container-id-5 div.sk-toggleable__content {max-height: 0;max-width: 0;overflow: hidden;text-align: left;background-color: #f0f8ff;}#sk-container-id-5 div.sk-toggleable__content pre {margin: 0.2em;color: black;border-radius: 0.25em;background-color: #f0f8ff;}#sk-container-id-5 input.sk-toggleable__control:checked~div.sk-toggleable__content {max-height: 200px;max-width: 100%;overflow: auto;}#sk-container-id-5 input.sk-toggleable__control:checked~label.sk-toggleable__label-arrow:before {content: \"▾\";}#sk-container-id-5 div.sk-estimator input.sk-toggleable__control:checked~label.sk-toggleable__label {background-color: #d4ebff;}#sk-container-id-5 div.sk-label input.sk-toggleable__control:checked~label.sk-toggleable__label {background-color: #d4ebff;}#sk-container-id-5 input.sk-hidden--visually {border: 0;clip: rect(1px 1px 1px 1px);clip: rect(1px, 1px, 1px, 1px);height: 1px;margin: -1px;overflow: hidden;padding: 0;position: absolute;width: 1px;}#sk-container-id-5 div.sk-estimator {font-family: monospace;background-color: #f0f8ff;border: 1px dotted black;border-radius: 0.25em;box-sizing: border-box;margin-bottom: 0.5em;}#sk-container-id-5 div.sk-estimator:hover {background-color: #d4ebff;}#sk-container-id-5 div.sk-parallel-item::after {content: \"\";width: 100%;border-bottom: 1px solid gray;flex-grow: 1;}#sk-container-id-5 div.sk-label:hover label.sk-toggleable__label {background-color: #d4ebff;}#sk-container-id-5 div.sk-serial::before {content: \"\";position: absolute;border-left: 1px solid gray;box-sizing: border-box;top: 0;bottom: 0;left: 50%;z-index: 0;}#sk-container-id-5 div.sk-serial {display: flex;flex-direction: column;align-items: center;background-color: white;padding-right: 0.2em;padding-left: 0.2em;position: relative;}#sk-container-id-5 div.sk-item {position: relative;z-index: 1;}#sk-container-id-5 div.sk-parallel {display: flex;align-items: stretch;justify-content: center;background-color: white;position: relative;}#sk-container-id-5 div.sk-item::before, #sk-container-id-5 div.sk-parallel-item::before {content: \"\";position: absolute;border-left: 1px solid gray;box-sizing: border-box;top: 0;bottom: 0;left: 50%;z-index: -1;}#sk-container-id-5 div.sk-parallel-item {display: flex;flex-direction: column;z-index: 1;position: relative;background-color: white;}#sk-container-id-5 div.sk-parallel-item:first-child::after {align-self: flex-end;width: 50%;}#sk-container-id-5 div.sk-parallel-item:last-child::after {align-self: flex-start;width: 50%;}#sk-container-id-5 div.sk-parallel-item:only-child::after {width: 0;}#sk-container-id-5 div.sk-dashed-wrapped {border: 1px dashed gray;margin: 0 0.4em 0.5em 0.4em;box-sizing: border-box;padding-bottom: 0.4em;background-color: white;}#sk-container-id-5 div.sk-label label {font-family: monospace;font-weight: bold;display: inline-block;line-height: 1.2em;}#sk-container-id-5 div.sk-label-container {text-align: center;}#sk-container-id-5 div.sk-container {/* jupyter's `normalize.less` sets `[hidden] { display: none; }` but bootstrap.min.css set `[hidden] { display: none !important; }` so we also need the `!important` here to be able to override the default hidden behavior on the sphinx rendered scikit-learn.org. See: https://github.com/scikit-learn/scikit-learn/issues/21755 */display: inline-block !important;position: relative;}#sk-container-id-5 div.sk-text-repr-fallback {display: none;}</style><div id=\"sk-container-id-5\" class=\"sk-top-container\"><div class=\"sk-text-repr-fallback\"><pre>KMeans(n_clusters=3, n_init=20)</pre><b>In a Jupyter environment, please rerun this cell to show the HTML representation or trust the notebook. <br />On GitHub, the HTML representation is unable to render, please try loading this page with nbviewer.org.</b></div><div class=\"sk-container\" hidden><div class=\"sk-item\"><div class=\"sk-estimator sk-toggleable\"><input class=\"sk-toggleable__control sk-hidden--visually\" id=\"sk-estimator-id-5\" type=\"checkbox\" checked><label for=\"sk-estimator-id-5\" class=\"sk-toggleable__label sk-toggleable__label-arrow\">KMeans</label><div class=\"sk-toggleable__content\"><pre>KMeans(n_clusters=3, n_init=20)</pre></div></div></div></div></div>"
      ],
      "text/plain": [
       "KMeans(n_clusters=3, n_init=20)"
      ]
     },
     "execution_count": 225,
     "metadata": {},
     "output_type": "execute_result"
    }
   ],
   "source": [
    "# Train the KMeans clustering model\n",
    "kmeans.fit(X)"
   ]
  },
  {
   "cell_type": "code",
   "execution_count": 226,
   "id": "d50e649c",
   "metadata": {},
   "outputs": [
    {
     "data": {
      "text/plain": [
       "array([0, 2, 0, 1, 0, 1, 1, 2, 1, 1, 0, 1, 0, 2, 1, 0, 1, 1, 1, 2, 2, 2,\n",
       "       1, 1, 0, 1, 2, 0, 0, 0, 1, 1, 0, 0, 1, 0, 2, 2, 0, 0, 1, 0, 1, 0,\n",
       "       1, 1, 1, 0, 1, 1, 2, 0, 1, 0, 0, 1, 0, 0, 2, 1, 1, 0, 2, 2, 1, 1,\n",
       "       1, 1, 2, 0, 2, 1, 0, 2, 1, 1, 1, 2, 0, 0, 1, 1, 1, 1, 1, 0, 0, 2,\n",
       "       1, 2, 0, 0, 1, 0, 2, 2, 0, 1, 1, 1, 2, 2, 2, 0, 2, 1, 1, 0, 1, 1,\n",
       "       1, 2, 1, 1, 2, 0, 2, 0, 1, 1, 2, 1, 1, 2, 2, 2, 0, 2, 1, 0, 0, 1,\n",
       "       1, 2, 2, 1, 2, 1, 1, 0, 1, 0, 0, 1, 1, 1, 0, 1, 2, 2, 2, 2, 1, 1,\n",
       "       1, 0, 1, 1, 0, 1, 2, 1, 1, 1, 0, 1, 1, 1, 0, 0, 2, 2, 2, 0, 2, 1,\n",
       "       2, 2, 0, 1, 0, 2, 0, 1, 1, 1, 0, 1, 0, 0, 0, 2, 0])"
      ]
     },
     "execution_count": 226,
     "metadata": {},
     "output_type": "execute_result"
    }
   ],
   "source": [
    "# Predict 5 clusters in X\n",
    "y = kmeans.predict(X)\n",
    "y"
   ]
  },
  {
   "cell_type": "code",
   "execution_count": 227,
   "id": "c160354b",
   "metadata": {},
   "outputs": [
    {
     "name": "stdout",
     "output_type": "stream",
     "text": [
      "[0 2 0 1 0 1 1 2 1 1 0 1 0 2 1 0 1 1 1 2 2 2 1 1 0 1 2 0 0 0 1 1 0 0 1 0 2\n",
      " 2 0 0 1 0 1 0 1 1 1 0 1 1 2 0 1 0 0 1 0 0 2 1 1 0 2 2 1 1 1 1 2 0 2 1 0 2\n",
      " 1 1 1 2 0 0 1 1 1 1 1 0 0 2 1 2 0 0 1 0 2 2 0 1 1 1 2 2 2 0 2 1 1 0 1 1 1\n",
      " 2 1 1 2 0 2 0 1 1 2 1 1 2 2 2 0 2 1 0 0 1 1 2 2 1 2 1 1 0 1 0 0 1 1 1 0 1\n",
      " 2 2 2 2 1 1 1 0 1 1 0 1 2 1 1 1 0 1 1 1 0 0 2 2 2 0 2 1 2 2 0 1 0 2 0 1 1\n",
      " 1 0 1 0 0 0 2 0]\n"
     ]
    }
   ],
   "source": [
    "# See the predicted labels of clusters\n",
    "# cluster labels are stored in variable 'kmeans.labels_'\n",
    "print(kmeans.labels_)\n",
    "\n",
    "# same as print(Y)"
   ]
  },
  {
   "cell_type": "code",
   "execution_count": 228,
   "id": "2cae8b6d",
   "metadata": {},
   "outputs": [
    {
     "name": "stdout",
     "output_type": "stream",
     "text": [
      "Cluster  0 :  (59, 2)\n"
     ]
    },
    {
     "data": {
      "image/png": "[encoded data removed]",
      "text/plain": [
       "<Figure size 640x480 with 1 Axes>"
      ]
     },
     "metadata": {},
     "output_type": "display_data"
    },
    {
     "name": "stdout",
     "output_type": "stream",
     "text": [
      "Cluster  1 :  (85, 2)\n"
     ]
    },
    {
     "data": {
      "image/png": "[encoded data removed]",
      "text/plain": [
       "<Figure size 640x480 with 1 Axes>"
      ]
     },
     "metadata": {},
     "output_type": "display_data"
    },
    {
     "name": "stdout",
     "output_type": "stream",
     "text": [
      "Cluster  2 :  (49, 2)\n"
     ]
    },
    {
     "data": {
      "image/png": "[encoded data removed]",
      "text/plain": [
       "<Figure size 640x480 with 1 Axes>"
      ]
     },
     "metadata": {},
     "output_type": "display_data"
    }
   ],
   "source": [
    "# Split the clusters, for demo purpose only\n",
    "for i in range(num_clusters):\n",
    "    # slice the cluster\n",
    "    cluster = X[y == i]    \n",
    "    # print the shape\n",
    "    print(\"Cluster \", i, \": \", cluster.shape)    \n",
    "    # plot the points of this cluster\n",
    "    plt.scatter(cluster[:, 0], cluster[:, 1])   \n",
    "    plt.grid(True)\n",
    "    plt.show()"
   ]
  },
  {
   "cell_type": "code",
   "execution_count": 229,
   "id": "5092831b",
   "metadata": {},
   "outputs": [
    {
     "data": {
      "image/png": "[encoded data removed]",
      "text/plain": [
       "<Figure size 640x480 with 1 Axes>"
      ]
     },
     "metadata": {},
     "output_type": "display_data"
    }
   ],
   "source": [
    "# Plot the points with color code of the predicted clusters\n",
    "# viridis - a color map, https://matplotlib.org/users/colormaps.html\n",
    "# s - marker size, here, the dots size\n",
    "# c - marker color, here taken from the predicted clusters\n",
    "plt.scatter(X[:, 0], X[:, 1], c=y, s=50, cmap='viridis')\n",
    "\n",
    "plt.grid(True)\n",
    "plt.show()"
   ]
  },
  {
   "cell_type": "code",
   "execution_count": 230,
   "id": "16ad3eee",
   "metadata": {
    "scrolled": true
   },
   "outputs": [
    {
     "name": "stdout",
     "output_type": "stream",
     "text": [
      "[[5.76271186 5.96610169]\n",
      " [1.53529412 1.51764706]\n",
      " [3.71428571 3.66326531]]\n"
     ]
    }
   ],
   "source": [
    "# See the cluster centres, created during the clustering\n",
    "# cluster centres are stored in a variable named 'cluster_centers_'\n",
    "print(kmeans.cluster_centers_)"
   ]
  },
  {
   "cell_type": "code",
   "execution_count": 231,
   "id": "68768085",
   "metadata": {},
   "outputs": [],
   "source": [
    "# we need a grid of points for drawing a smooth border between clusters\n",
    "# define step size of the mesh \n",
    "step_size = 0.01\n",
    "\n",
    "# we need to cover all points of our data\n",
    "# create a grid out of an array of X values and an array of y values\n",
    "x_coord = np.arange(x_min, x_max, step_size)\n",
    "y_coord = np.arange(y_min, y_max, step_size)\n",
    "\n",
    "# meshgrid() creates a matrix of coordinates from the two vectors of coordinates\n",
    "x_vals, y_vals = np.meshgrid(x_coord, y_coord)"
   ]
  },
  {
   "cell_type": "code",
   "execution_count": 232,
   "id": "4d226a55",
   "metadata": {},
   "outputs": [
    {
     "name": "stdout",
     "output_type": "stream",
     "text": [
      "[1 1 1 ... 0 0 0]\n"
     ]
    }
   ],
   "source": [
    "# Predict cluster labels for all the points on the grid \n",
    "# ravel() returns 1D-array\n",
    "xx = x_vals.ravel()\n",
    "yy = y_vals.ravel()\n",
    "\n",
    "# np.c_ concatenates the arguments\n",
    "labels = kmeans.predict(np.c_[xx,yy])\n",
    "print(labels)\n",
    "labels = labels.reshape(x_vals.shape)"
   ]
  },
  {
   "cell_type": "code",
   "execution_count": 233,
   "id": "d96959fc",
   "metadata": {},
   "outputs": [],
   "source": [
    "# Predict cluster labels for all the points on the grid \n",
    "# ravel() returns 1D-array\n",
    "#xx = x_vals.ravel()\n",
    "#yy = y_vals.ravel()\n",
    "\n",
    "# np.c_ concatenates the arguments\n",
    "#labels = kmeans.predict(np.c_[xx,yy])\n",
    "#labels = labels.reshape(x_vals.shape)"
   ]
  },
  {
   "cell_type": "code",
   "execution_count": 234,
   "id": "c214a406",
   "metadata": {},
   "outputs": [
    {
     "data": {
      "image/png": "[encoded data removed]",
      "text/plain": [
       "<Figure size 640x480 with 1 Axes>"
      ]
     },
     "metadata": {},
     "output_type": "display_data"
    }
   ],
   "source": [
    "# Plot the clusters\n",
    "# create new plot area\n",
    "plt.figure()\n",
    "# clear the plot area\n",
    "plt.clf()\n",
    "\n",
    "plt.title('Boundaries of clusters')\n",
    "\n",
    "# plot the frame\n",
    "plt.xlim(x_min, x_max)\n",
    "plt.ylim(y_min, y_max)\n",
    "\n",
    "# plot the clusters \n",
    "plt.imshow(labels, interpolation='nearest',\n",
    "           extent=(x_vals.min(), x_vals.max(), y_vals.min(), y_vals.max()),\n",
    "           cmap='viridis', aspect='auto')\n",
    "# plot the points as they belong to the clusters\n",
    "plt.scatter(X[:,0], X[:,1], marker='o', facecolors='none', edgecolors='white', s=30) \n",
    "\n",
    "# plot the centroids\n",
    "centers = kmeans.cluster_centers_\n",
    "plt.scatter(centers[:,0], centers[:,1],  s=200, linewidths=2, color='yellow', marker='*', zorder=3, facecolors='black')\n",
    "\n",
    "# annotate the centroids\n",
    "for i, center in enumerate(centers):\n",
    "    plt.annotate(i, center+[0.0,1.0], \n",
    "                 size=15, zorder=1, color='yellow', weight='bold', \n",
    "                 horizontalalignment='center', verticalalignment='center',) \n",
    "plt.show()"
   ]
  },
  {
   "cell_type": "markdown",
   "id": "2bc39203",
   "metadata": {},
   "source": [
    "### 4. Create a geographical map of the world and colours the countries on it to reflect on their freedom status (cluster)."
   ]
  },
  {
   "cell_type": "code",
   "execution_count": null,
   "id": "abaafaab",
   "metadata": {},
   "outputs": [],
   "source": []
  }
 ],
 "metadata": {
  "kernelspec": {
   "display_name": "Python 3 (ipykernel)",
   "language": "python",
   "name": "python3"
  },
  "language_info": {
   "codemirror_mode": {
    "name": "ipython",
    "version": 3
   },
   "file_extension": ".py",
   "mimetype": "text/x-python",
   "name": "python",
   "nbconvert_exporter": "python",
   "pygments_lexer": "ipython3",
   "version": "3.11.4"
  }
 },
 "nbformat": 4,
 "nbformat_minor": 5
}
