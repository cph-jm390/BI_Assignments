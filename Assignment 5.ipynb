{
 "cells": [
  {
   "cell_type": "markdown",
   "id": "db6b2137",
   "metadata": {},
   "source": [
    "# Mini Project 5: World Democracy and Freedom"
   ]
  },
  {
   "cell_type": "markdown",
   "id": "55ae059f",
   "metadata": {},
   "source": [
    "### Learning Objective\n",
    "Gaining experience in data preparation, unsupervised machine learning analysis, and visualisation of clusters."
   ]
  },
  {
   "cell_type": "markdown",
   "id": "7eabfdae",
   "metadata": {},
   "source": [
    "### Project Objective\n",
    "For the last 50 years the organisation Freedom House (https://freedomhouse.org) monitors and protects the democracy values, political rights and civil liberties in the world. We would like to get insights about the status of freedom of all countries in 2023."
   ]
  },
  {
   "cell_type": "markdown",
   "id": "2fef38a6",
   "metadata": {},
   "source": [
    "## Tasks"
   ]
  },
  {
   "cell_type": "markdown",
   "id": "6535e1d1",
   "metadata": {},
   "source": [
    "### 1. Research the work of Freedom House and choose some of their data collections, relevant to the objective."
   ]
  },
  {
   "cell_type": "code",
   "execution_count": 138,
   "id": "87c3d8e0",
   "metadata": {},
   "outputs": [],
   "source": [
    "#Imports\n",
    "\n",
    "import numpy as np\n",
    "import pandas as pd\n",
    "import matplotlib.pyplot as plt\n",
    "from sklearn.preprocessing import StandardScaler"
   ]
  },
  {
   "cell_type": "code",
   "execution_count": 139,
   "id": "1e320652",
   "metadata": {},
   "outputs": [],
   "source": [
    "from sklearn.cluster import KMeans\n",
    "from sklearn import metrics\n",
    "from scipy.spatial.distance import cdist"
   ]
  },
  {
   "cell_type": "code",
   "execution_count": 140,
   "id": "ab2703bf",
   "metadata": {},
   "outputs": [],
   "source": [
    "#df = pd.read_csv('/Users/emiliocastrolagunas/Desktop/Sem4/BI/Notebooks/Data/freedom.csv')\n",
    "df= pd.read_csv('../excercises/Data/freedom.csv')\n",
    "\n"
   ]
  },
  {
   "cell_type": "code",
   "execution_count": 141,
   "id": "0bfbedc7",
   "metadata": {},
   "outputs": [
    {
     "data": {
      "text/html": [
       "<div>\n",
       "<style scoped>\n",
       "    .dataframe tbody tr th:only-of-type {\n",
       "        vertical-align: middle;\n",
       "    }\n",
       "\n",
       "    .dataframe tbody tr th {\n",
       "        vertical-align: top;\n",
       "    }\n",
       "\n",
       "    .dataframe thead th {\n",
       "        text-align: right;\n",
       "    }\n",
       "</style>\n",
       "<table border=\"1\" class=\"dataframe\">\n",
       "  <thead>\n",
       "    <tr style=\"text-align: right;\">\n",
       "      <th></th>\n",
       "      <th>country</th>\n",
       "      <th>1972</th>\n",
       "      <th>1973</th>\n",
       "      <th>1974</th>\n",
       "      <th>1975</th>\n",
       "      <th>1976</th>\n",
       "      <th>1977</th>\n",
       "      <th>1978</th>\n",
       "      <th>1979</th>\n",
       "      <th>1980</th>\n",
       "      <th>...</th>\n",
       "      <th>2009</th>\n",
       "      <th>2010</th>\n",
       "      <th>2011</th>\n",
       "      <th>2012</th>\n",
       "      <th>2013</th>\n",
       "      <th>2014</th>\n",
       "      <th>2015</th>\n",
       "      <th>2016</th>\n",
       "      <th>2017</th>\n",
       "      <th>2018</th>\n",
       "    </tr>\n",
       "  </thead>\n",
       "  <tbody>\n",
       "    <tr>\n",
       "      <th>0</th>\n",
       "      <td>Afghanistan</td>\n",
       "      <td>4.5</td>\n",
       "      <td>6.5</td>\n",
       "      <td>6.5</td>\n",
       "      <td>6.5</td>\n",
       "      <td>6.5</td>\n",
       "      <td>6.0</td>\n",
       "      <td>7.0</td>\n",
       "      <td>7.0</td>\n",
       "      <td>7.0</td>\n",
       "      <td>...</td>\n",
       "      <td>6.0</td>\n",
       "      <td>6.0</td>\n",
       "      <td>6.0</td>\n",
       "      <td>6.0</td>\n",
       "      <td>6.0</td>\n",
       "      <td>6.0</td>\n",
       "      <td>6.0</td>\n",
       "      <td>6.0</td>\n",
       "      <td>5.5</td>\n",
       "      <td>5.5</td>\n",
       "    </tr>\n",
       "    <tr>\n",
       "      <th>1</th>\n",
       "      <td>Albania</td>\n",
       "      <td>7.0</td>\n",
       "      <td>7.0</td>\n",
       "      <td>7.0</td>\n",
       "      <td>7.0</td>\n",
       "      <td>7.0</td>\n",
       "      <td>7.0</td>\n",
       "      <td>7.0</td>\n",
       "      <td>7.0</td>\n",
       "      <td>7.0</td>\n",
       "      <td>...</td>\n",
       "      <td>3.0</td>\n",
       "      <td>3.0</td>\n",
       "      <td>3.0</td>\n",
       "      <td>3.0</td>\n",
       "      <td>3.0</td>\n",
       "      <td>3.0</td>\n",
       "      <td>3.0</td>\n",
       "      <td>3.0</td>\n",
       "      <td>3.0</td>\n",
       "      <td>3.0</td>\n",
       "    </tr>\n",
       "    <tr>\n",
       "      <th>2</th>\n",
       "      <td>Algeria</td>\n",
       "      <td>6.0</td>\n",
       "      <td>6.0</td>\n",
       "      <td>6.0</td>\n",
       "      <td>6.5</td>\n",
       "      <td>6.0</td>\n",
       "      <td>6.0</td>\n",
       "      <td>6.0</td>\n",
       "      <td>6.0</td>\n",
       "      <td>6.0</td>\n",
       "      <td>...</td>\n",
       "      <td>5.5</td>\n",
       "      <td>5.5</td>\n",
       "      <td>5.5</td>\n",
       "      <td>5.5</td>\n",
       "      <td>5.5</td>\n",
       "      <td>5.5</td>\n",
       "      <td>5.5</td>\n",
       "      <td>5.5</td>\n",
       "      <td>5.5</td>\n",
       "      <td>5.5</td>\n",
       "    </tr>\n",
       "    <tr>\n",
       "      <th>3</th>\n",
       "      <td>Andorra</td>\n",
       "      <td>3.5</td>\n",
       "      <td>4.0</td>\n",
       "      <td>4.0</td>\n",
       "      <td>4.0</td>\n",
       "      <td>4.0</td>\n",
       "      <td>NaN</td>\n",
       "      <td>NaN</td>\n",
       "      <td>NaN</td>\n",
       "      <td>NaN</td>\n",
       "      <td>...</td>\n",
       "      <td>1.0</td>\n",
       "      <td>1.0</td>\n",
       "      <td>1.0</td>\n",
       "      <td>1.0</td>\n",
       "      <td>1.0</td>\n",
       "      <td>1.0</td>\n",
       "      <td>1.0</td>\n",
       "      <td>1.0</td>\n",
       "      <td>1.0</td>\n",
       "      <td>1.0</td>\n",
       "    </tr>\n",
       "    <tr>\n",
       "      <th>4</th>\n",
       "      <td>Angola</td>\n",
       "      <td>NaN</td>\n",
       "      <td>NaN</td>\n",
       "      <td>NaN</td>\n",
       "      <td>6.0</td>\n",
       "      <td>6.0</td>\n",
       "      <td>7.0</td>\n",
       "      <td>7.0</td>\n",
       "      <td>7.0</td>\n",
       "      <td>7.0</td>\n",
       "      <td>...</td>\n",
       "      <td>5.5</td>\n",
       "      <td>5.5</td>\n",
       "      <td>5.5</td>\n",
       "      <td>5.5</td>\n",
       "      <td>5.5</td>\n",
       "      <td>5.5</td>\n",
       "      <td>6.0</td>\n",
       "      <td>6.0</td>\n",
       "      <td>6.0</td>\n",
       "      <td>5.5</td>\n",
       "    </tr>\n",
       "  </tbody>\n",
       "</table>\n",
       "<p>5 rows × 48 columns</p>\n",
       "</div>"
      ],
      "text/plain": [
       "       country  1972  1973  1974  1975  1976  1977  1978  1979  1980  ...  \\\n",
       "0  Afghanistan   4.5   6.5   6.5   6.5   6.5   6.0   7.0   7.0   7.0  ...   \n",
       "1      Albania   7.0   7.0   7.0   7.0   7.0   7.0   7.0   7.0   7.0  ...   \n",
       "2      Algeria   6.0   6.0   6.0   6.5   6.0   6.0   6.0   6.0   6.0  ...   \n",
       "3      Andorra   3.5   4.0   4.0   4.0   4.0   NaN   NaN   NaN   NaN  ...   \n",
       "4       Angola   NaN   NaN   NaN   6.0   6.0   7.0   7.0   7.0   7.0  ...   \n",
       "\n",
       "   2009  2010  2011  2012  2013  2014  2015  2016  2017  2018  \n",
       "0   6.0   6.0   6.0   6.0   6.0   6.0   6.0   6.0   5.5   5.5  \n",
       "1   3.0   3.0   3.0   3.0   3.0   3.0   3.0   3.0   3.0   3.0  \n",
       "2   5.5   5.5   5.5   5.5   5.5   5.5   5.5   5.5   5.5   5.5  \n",
       "3   1.0   1.0   1.0   1.0   1.0   1.0   1.0   1.0   1.0   1.0  \n",
       "4   5.5   5.5   5.5   5.5   5.5   5.5   6.0   6.0   6.0   5.5  \n",
       "\n",
       "[5 rows x 48 columns]"
      ]
     },
     "execution_count": 141,
     "metadata": {},
     "output_type": "execute_result"
    }
   ],
   "source": [
    "#idea of general looks of data\n",
    "df.head()"
   ]
  },
  {
   "cell_type": "code",
   "execution_count": 142,
   "id": "e07481a9",
   "metadata": {},
   "outputs": [
    {
     "data": {
      "text/plain": [
       "(193, 48)"
      ]
     },
     "execution_count": 142,
     "metadata": {},
     "output_type": "execute_result"
    }
   ],
   "source": [
    "df.shape"
   ]
  },
  {
   "cell_type": "code",
   "execution_count": 143,
   "id": "0b0a0d61",
   "metadata": {},
   "outputs": [
    {
     "data": {
      "text/plain": [
       "country      0\n",
       "1972        51\n",
       "1973        50\n",
       "1974        48\n",
       "1975        42\n",
       "1976        41\n",
       "1977        45\n",
       "1978        42\n",
       "1979        39\n",
       "1980        38\n",
       "1981        36\n",
       "1982       193\n",
       "1983        35\n",
       "1984        34\n",
       "1985        34\n",
       "1986        34\n",
       "1987        34\n",
       "1988        34\n",
       "1989        33\n",
       "1990        33\n",
       "1991        14\n",
       "1992        10\n",
       "1993         5\n",
       "1994         4\n",
       "1995         4\n",
       "1996         4\n",
       "1997         4\n",
       "1998         4\n",
       "1999         3\n",
       "2000         3\n",
       "2001         3\n",
       "2002         3\n",
       "2003         3\n",
       "2004         3\n",
       "2005         3\n",
       "2006         1\n",
       "2007         1\n",
       "2008         1\n",
       "2009         1\n",
       "2010         1\n",
       "2011         0\n",
       "2012         0\n",
       "2013         0\n",
       "2014         0\n",
       "2015         0\n",
       "2016         0\n",
       "2017         0\n",
       "2018         0\n",
       "dtype: int64"
      ]
     },
     "execution_count": 143,
     "metadata": {},
     "output_type": "execute_result"
    }
   ],
   "source": [
    "#checking for null-values\n",
    "df.isnull().sum()"
   ]
  },
  {
   "cell_type": "markdown",
   "id": "cf0bca35",
   "metadata": {},
   "source": [
    "### 2. Clean and explore the data and prepare it for clustering\n"
   ]
  },
  {
   "cell_type": "code",
   "execution_count": 144,
   "id": "dd7cfc2d",
   "metadata": {},
   "outputs": [],
   "source": [
    "#def replace_zeros_and_nulls_with_median(df, column_name):.\n",
    "#    non_zero_non_null_values = df[column_name][(df[column_name] != 0) & (~df[column_name].isnull())]\n",
    "#    if not non_zero_non_null_values.empty:\n",
    "#        median_value = non_zero_non_null_values.median()\n",
    "#        df[column_name].fillna(median_value, inplace=True)\n",
    "#    return df\n",
    "#years_with_null=['1972', '1973', '1974', '1975', '1976', '1977', '1978', '1979', '1980', '1981', '1982', '1983', '1984', '1985', '1986', '1987', '1988', '1989', '1990', '1991', '1992', '1993', '1994', '1995', '1996', '1997', '1998', '1999', '2000', '2001', '2002', '2003', '2004', '2005', '2006', '2007', '2008', '2009', '2010']\n",
    "#years_with_null\n",
    "#for year_string in years_with_null:\n",
    "     #replace_zeros_and_nulls_with_median(df, year_string)\n",
    "        \n",
    "#df.isnull().sum()"
   ]
  },
  {
   "cell_type": "code",
   "execution_count": 145,
   "id": "59789c14",
   "metadata": {},
   "outputs": [
    {
     "data": {
      "text/plain": [
       "country      0\n",
       "1972        51\n",
       "1973        50\n",
       "1974        48\n",
       "1975        42\n",
       "1976        41\n",
       "1977        45\n",
       "1978        42\n",
       "1979        39\n",
       "1980        38\n",
       "1981        36\n",
       "1982       193\n",
       "1983        35\n",
       "1984        34\n",
       "1985        34\n",
       "1986        34\n",
       "1987        34\n",
       "1988        34\n",
       "1989        33\n",
       "1990        33\n",
       "1991        14\n",
       "1992        10\n",
       "1993         5\n",
       "1994         4\n",
       "1995         4\n",
       "1996         4\n",
       "1997         4\n",
       "1998         4\n",
       "1999         3\n",
       "2000         3\n",
       "2001         3\n",
       "2002         0\n",
       "2003         3\n",
       "2004         3\n",
       "2005         3\n",
       "2006         1\n",
       "2007         1\n",
       "2008         1\n",
       "2009         1\n",
       "2010         1\n",
       "2011         0\n",
       "2012         0\n",
       "2013         0\n",
       "2014         0\n",
       "2015         0\n",
       "2016         0\n",
       "2017         0\n",
       "2018         0\n",
       "dtype: int64"
      ]
     },
     "execution_count": 145,
     "metadata": {},
     "output_type": "execute_result"
    }
   ],
   "source": [
    "#We would like to explore the differences between 2002 and 2018 as that's the closest to todays reality.\n",
    "#The reason for that choice, is because 9/11 was in 2001. It could be interesting to see an potential impact from that.\n",
    "#On top of that, there's few null values as seen above, so an accurate replacement of nulls is easier.\n",
    "\n",
    "\n",
    "median_2002 = df['2002'].median()\n",
    "df['2002'].fillna(median_2002, inplace=True)\n",
    "df.isnull().sum()\n",
    "\n",
    "\n"
   ]
  },
  {
   "cell_type": "markdown",
   "id": "4914b3a3",
   "metadata": {},
   "source": [
    "### 3. Choose an unsupervised ML algorithm and apply it to create clusters of countries, based on their freedom assessment measure."
   ]
  },
  {
   "cell_type": "code",
   "execution_count": 146,
   "id": "b7838f8b",
   "metadata": {},
   "outputs": [
    {
     "name": "stdout",
     "output_type": "stream",
     "text": [
      "[[6.0 6.0 5.5 ... 6.0 5.5 5.5]\n",
      " [3.0 3.0 3.0 ... 3.0 3.0 3.0]\n",
      " [5.5 5.5 5.5 ... 5.5 5.5 5.5]\n",
      " ...\n",
      " [5.5 5.0 5.0 ... 6.5 6.5 6.5]\n",
      " [4.0 4.0 4.0 ... 4.0 4.0 4.0]\n",
      " [6.0 6.0 6.5 ... 5.0 5.5 5.0]]\n"
     ]
    }
   ],
   "source": [
    "X = df.values\n",
    "X = X[:,31:]\n",
    "\n",
    "print(X)"
   ]
  },
  {
   "cell_type": "code",
   "execution_count": 147,
   "id": "0f56e5f7",
   "metadata": {},
   "outputs": [
    {
     "ename": "IndexError",
     "evalue": "index 31 is out of bounds for axis 1 with size 17",
     "output_type": "error",
     "traceback": [
      "\u001b[1;31m---------------------------------------------------------------------------\u001b[0m",
      "\u001b[1;31mIndexError\u001b[0m                                Traceback (most recent call last)",
      "Cell \u001b[1;32mIn[147], line 9\u001b[0m\n\u001b[0;32m      6\u001b[0m plt\u001b[38;5;241m.\u001b[39mtitle(\u001b[38;5;124m'\u001b[39m\u001b[38;5;124mInput data\u001b[39m\u001b[38;5;124m'\u001b[39m)\n\u001b[0;32m      8\u001b[0m \u001b[38;5;66;03m# Calculate the range of X and Y based on the specified indices\u001b[39;00m\n\u001b[1;32m----> 9\u001b[0m x_min \u001b[38;5;241m=\u001b[39m X[:, x_index]\u001b[38;5;241m.\u001b[39mmin()\n\u001b[0;32m     10\u001b[0m x_max \u001b[38;5;241m=\u001b[39m X[:, x_index]\u001b[38;5;241m.\u001b[39mmax()\n\u001b[0;32m     11\u001b[0m y_min \u001b[38;5;241m=\u001b[39m X[:, y_index]\u001b[38;5;241m.\u001b[39mmin()\n",
      "\u001b[1;31mIndexError\u001b[0m: index 31 is out of bounds for axis 1 with size 17"
     ]
    },
    {
     "data": {
      "image/png": "[encoded data removed]",
      "text/plain": [
       "<Figure size 640x480 with 1 Axes>"
      ]
     },
     "metadata": {},
     "output_type": "display_data"
    }
   ],
   "source": [
    "x_index = 31  # Index to use for the x-coordinate\n",
    "y_index = 47  # Index to use for the y-coordinate\n",
    "\n",
    "# Create a figure and set the title\n",
    "plt.figure()\n",
    "plt.title('Input data')\n",
    "\n",
    "# Calculate the range of X and Y based on the specified indices\n",
    "x_min = X[:, x_index].min()\n",
    "x_max = X[:, x_index].max()\n",
    "y_min = X[:, y_index].min()\n",
    "y_max = X[:, y_index].max()\n",
    "\n",
    "# Set the plot limits\n",
    "plt.xlim(x_min - 1, x_max + 1)\n",
    "plt.ylim(y_min - 1, y_max + 1)\n",
    "\n",
    "# Scatterplot of the points using the specified indices\n",
    "plt.scatter(X[:, x_index], X[:, y_index], marker='o', facecolors='none', edgecolors='black', s=30)\n",
    "\n",
    "plt.show()"
   ]
  },
  {
   "cell_type": "code",
   "execution_count": 153,
   "id": "57fec66c",
   "metadata": {
    "scrolled": true
   },
   "outputs": [
    {
     "ename": "IndexError",
     "evalue": "index 31 is out of bounds for axis 1 with size 17",
     "output_type": "error",
     "traceback": [
      "\u001b[1;31m---------------------------------------------------------------------------\u001b[0m",
      "\u001b[1;31mIndexError\u001b[0m                                Traceback (most recent call last)",
      "Cell \u001b[1;32mIn[153], line 9\u001b[0m\n\u001b[0;32m      6\u001b[0m x_index \u001b[38;5;241m=\u001b[39m \u001b[38;5;241m31\u001b[39m\n\u001b[0;32m      7\u001b[0m y_index \u001b[38;5;241m=\u001b[39m \u001b[38;5;241m47\u001b[39m\n\u001b[1;32m----> 9\u001b[0m x_min \u001b[38;5;241m=\u001b[39m X[:, x_index]\u001b[38;5;241m.\u001b[39mmin()\n\u001b[0;32m     10\u001b[0m x_max \u001b[38;5;241m=\u001b[39m X[:, x_index]\u001b[38;5;241m.\u001b[39mmax()\n\u001b[0;32m     11\u001b[0m y_min \u001b[38;5;241m=\u001b[39m X[:, y_index]\u001b[38;5;241m.\u001b[39mmin()\n",
      "\u001b[1;31mIndexError\u001b[0m: index 31 is out of bounds for axis 1 with size 17"
     ]
    },
    {
     "data": {
      "image/png": "[encoded data removed]",
      "text/plain": [
       "<Figure size 640x480 with 1 Axes>"
      ]
     },
     "metadata": {},
     "output_type": "display_data"
    }
   ],
   "source": [
    "# Create a figure and set the title\n",
    "plt.figure()\n",
    "plt.title('Input data')\n",
    "\n",
    "# Get the range of the specified indices (31 and 47)\n",
    "x_index = 31\n",
    "y_index = 47\n",
    "\n",
    "x_min = X[:, x_index].min()\n",
    "x_max = X[:, x_index].max()\n",
    "y_min = X[:, y_index].min()\n",
    "y_max = X[:, y_index].max()\n",
    "\n",
    "# Set plot limits\n",
    "plt.xlim(x_min - 1, x_max + 1)\n",
    "plt.ylim(y_min - 1, y_max + 1)\n",
    "\n",
    "# Scatterplot of the points using the specified indices\n",
    "plt.scatter(X[:, x_index], X[:, y_index], marker='o', facecolors='none', edgecolors='black', s=30)\n",
    "\n",
    "plt.show()"
   ]
  },
  {
   "cell_type": "code",
   "execution_count": null,
   "id": "fcafb47d",
   "metadata": {},
   "outputs": [],
   "source": [
    "# Determine k by minimizing the distortion - \n",
    "# the sum of the squared distances between each observation vector and its centroid\n",
    "distortions = []\n",
    "K = range(2,10)\n",
    "for k in K:\n",
    "    model = KMeans(n_clusters=k).fit(X)\n",
    "    \n",
    "    distortions.append(sum(np.min(cdist(X, model.cluster_centers_, 'euclidean'), axis=1)) / X.shape[0]) \n",
    "print(\"Distortion: \", distortions)"
   ]
  },
  {
   "cell_type": "code",
   "execution_count": null,
   "id": "15d0315d",
   "metadata": {},
   "outputs": [],
   "source": [
    "# Plot the elbow\n",
    "plt.title('Elbow Method for Optimal K')\n",
    "plt.plot(K, distortions, 'bx-')\n",
    "plt.xlabel('K')\n",
    "plt.ylabel('Distortion')\n",
    "plt.show()"
   ]
  },
  {
   "cell_type": "code",
   "execution_count": null,
   "id": "5035f923",
   "metadata": {},
   "outputs": [],
   "source": [
    "# Determine k by maximising the silhouette score for each number of clusters\n",
    "scores = []\n",
    "K = range(2,10)\n",
    "for k in K:\n",
    "    model = KMeans(n_clusters=k).fit(X)\n",
    "    model.fit(X)\n",
    "    score = metrics.silhouette_score(X, model.labels_, metric='euclidean', sample_size=len(X))\n",
    "    print(\"\\nNumber of clusters =\", k)\n",
    "    print(\"Silhouette score =\", score)\n",
    "    scores.append(score)"
   ]
  },
  {
   "cell_type": "code",
   "execution_count": null,
   "id": "9db94de3",
   "metadata": {},
   "outputs": [],
   "source": [
    "num_clusters=3"
   ]
  },
  {
   "cell_type": "code",
   "execution_count": null,
   "id": "6031db63",
   "metadata": {},
   "outputs": [],
   "source": [
    "# Create an instance of KMeans classifier\n",
    "kmeans = KMeans(init='k-means++', n_clusters=num_clusters, n_init=20)\n",
    "# init: method of experimemtal finding the initial location of the centroids\n",
    "# n_init: the algorithm will run n_init times with different cetroids and the best result of those will be taken"
   ]
  },
  {
   "cell_type": "code",
   "execution_count": null,
   "id": "d690d18d",
   "metadata": {},
   "outputs": [],
   "source": [
    "# Train the KMeans clustering model\n",
    "kmeans.fit(X)"
   ]
  },
  {
   "cell_type": "code",
   "execution_count": null,
   "id": "975c0721",
   "metadata": {},
   "outputs": [],
   "source": [
    "# Predict 5 clusters in X\n",
    "y = kmeans.predict(X)\n",
    "y"
   ]
  },
  {
   "cell_type": "code",
   "execution_count": null,
   "id": "7f917b22",
   "metadata": {},
   "outputs": [],
   "source": [
    "# See the predicted labels of clusters\n",
    "# cluster labels are stored in variable 'kmeans.labels_'\n",
    "print(kmeans.labels_)\n",
    "\n",
    "# same as print(Y)"
   ]
  },
  {
   "cell_type": "code",
   "execution_count": null,
   "id": "6882be03",
   "metadata": {},
   "outputs": [],
   "source": [
    "# Split the clusters, for demo purpose only\n",
    "for i in range(num_clusters):\n",
    "    # slice the cluster\n",
    "    cluster = X[y == i]    \n",
    "    # print the shape\n",
    "    print(\"Cluster \", i, \": \", cluster.shape)    \n",
    "    # plot the points of this cluster\n",
    "    plt.scatter(cluster[:, 0], cluster[:, 1])   \n",
    "    plt.grid(True)\n",
    "    plt.show()"
   ]
  },
  {
   "cell_type": "code",
   "execution_count": null,
   "id": "47342e1c",
   "metadata": {},
   "outputs": [],
   "source": [
    "# Plot the points with color code of the predicted clusters\n",
    "# viridis - a color map, https://matplotlib.org/users/colormaps.html\n",
    "# s - marker size, here, the dots size\n",
    "# c - marker color, here taken from the predicted clusters\n",
    "plt.scatter(X[:, 0], X[:, 1], c=y, s=50, cmap='viridis')\n",
    "\n",
    "plt.grid(True)\n",
    "plt.show()"
   ]
  },
  {
   "cell_type": "code",
   "execution_count": null,
   "id": "16ad3eee",
   "metadata": {
    "scrolled": true
   },
   "outputs": [],
   "source": [
    "# See the cluster centres, created during the clustering\n",
    "# cluster centres are stored in a variable named 'cluster_centers_'\n",
    "print(kmeans.cluster_centers_)"
   ]
  },
  {
   "cell_type": "code",
   "execution_count": null,
   "id": "68768085",
   "metadata": {},
   "outputs": [],
   "source": [
    "# we need a grid of points for drawing a smooth border between clusters\n",
    "# define step size of the mesh \n",
    "#step_size = 0.05\n",
    "\n",
    "# we need to cover all points of our data\n",
    "# create a grid out of an array of X values and an array of y values\n",
    "#x_coord = np.arange(x_min, x_max, step_size)\n",
    "#y_coord = np.arange(y_min, y_max, step_size)\n",
    "#\n",
    "# meshgrid() creates a matrix of coordinates from the two vectors of coordinates\n",
    "#x_vals, y_vals = np.meshgrid(x_coord, y_coord)"
   ]
  },
  {
   "cell_type": "code",
   "execution_count": null,
   "id": "9e7f1dac",
   "metadata": {},
   "outputs": [],
   "source": [
    "step_size = 0.05\n",
    "x_coord = np.arange(x_min, x_max, step_size)\n",
    "y_coord = np.arange(y_min, y_max, step_size)\n",
    "x_vals, y_vals = np.meshgrid(x_coord, y_coord)\n",
    "\n",
    "# Flatten the meshgrid to create data points for prediction\n",
    "xx = x_vals.ravel()\n",
    "yy = y_vals.ravel()\n",
    "\n",
    "# Concatenate x and y coordinates\n",
    "grid_data = np.c_[xx, yy]\n",
    "\n",
    "# Predict cluster assignments for the grid data\n",
    "labels = kmeans.predict(grid_data)\n",
    "\n",
    "# Reshape the labels to match the shape of the meshgrid\n",
    "labels = labels.reshape(x_vals.shape)\n",
    "\n",
    "# Visualization: Plot the cluster assignments on the grid\n",
    "plt.figure(figsize=(8, 8))\n",
    "plt.imshow(labels, interpolation='nearest',\n",
    "           extent=(x_vals.min(), x_vals.max(), y_vals.min(), y_vals.max()),\n",
    "           cmap=plt.cm.Paired, aspect='auto', origin='lower')\n",
    "plt.colorbar(label='Cluster Assignments')\n",
    "plt.scatter(X[:, 0], X[:, 1], marker='o', c='red', edgecolor='k', s=30)\n",
    "plt.title('K-Means Clustering')\n",
    "plt.xlabel('Feature 1')\n",
    "plt.ylabel('Feature 2')\n",
    "plt.show()"
   ]
  },
  {
   "cell_type": "code",
   "execution_count": null,
   "id": "bdc14206",
   "metadata": {},
   "outputs": [],
   "source": [
    "# Predict cluster labels for all the points on the grid \n",
    "# ravel() returns 1D-array\n",
    "#xx = x_vals.ravel()\n",
    "#yy = y_vals.ravel()\n",
    "\n",
    "# np.c_ concatenates the arguments\n",
    "#labels = kmeans.predict(np.c_[xx,yy])\n",
    "#labels = labels.reshape(x_vals.shape)"
   ]
  },
  {
   "cell_type": "markdown",
   "id": "2bc39203",
   "metadata": {},
   "source": [
    "### 4. Create a geographical map of the world and colours the countries on it to reflect on their freedom status (cluster)."
   ]
  },
  {
   "cell_type": "code",
   "execution_count": null,
   "id": "c0220408",
   "metadata": {},
   "outputs": [],
   "source": []
  }
 ],
 "metadata": {
  "kernelspec": {
   "display_name": "Python 3 (ipykernel)",
   "language": "python",
   "name": "python3"
  },
  "language_info": {
   "codemirror_mode": {
    "name": "ipython",
    "version": 3
   },
   "file_extension": ".py",
   "mimetype": "text/x-python",
   "name": "python",
   "nbconvert_exporter": "python",
   "pygments_lexer": "ipython3",
   "version": "3.11.4"
  }
 },
 "nbformat": 4,
 "nbformat_minor": 5
}
