{
 "cells": [
  {
   "cell_type": "markdown",
   "id": "f5f42126",
   "metadata": {},
   "source": [
    "# Mini Project 5: World Democracy and Freedom"
   ]
  },
  {
   "cell_type": "markdown",
   "id": "e51c4c82",
   "metadata": {},
   "source": [
    "### Learning Objective\n",
    "Gaining experience in data preparation, unsupervised machine learning analysis, and visualisation of clusters."
   ]
  },
  {
   "cell_type": "markdown",
   "id": "9e7823d5",
   "metadata": {},
   "source": [
    "### Project Objective\n",
    "For the last 50 years the organisation Freedom House (https://freedomhouse.org) monitors and protects the democracy values, political rights and civil liberties in the world. We would like to get insights about the status of freedom of all countries in 2023."
   ]
  },
  {
   "cell_type": "markdown",
   "id": "8cd2a882",
   "metadata": {},
   "source": [
    "## Tasks"
   ]
  },
  {
   "cell_type": "markdown",
   "id": "36cd2bb1",
   "metadata": {},
   "source": [
    "### 1. Research the work of Freedom House and choose some of their data collections, relevant to the objective."
   ]
  },
  {
   "cell_type": "code",
   "execution_count": null,
   "id": "0cb119e9",
   "metadata": {},
   "outputs": [],
   "source": [
    "#Imports\n",
    "\n"
   ]
  },
  {
   "cell_type": "code",
   "execution_count": 2,
   "id": "0a84532b",
   "metadata": {},
   "outputs": [
    {
     "ename": "NameError",
     "evalue": "name 'pd' is not defined",
     "output_type": "error",
     "traceback": [
      "\u001b[0;31m---------------------------------------------------------------------------\u001b[0m",
      "\u001b[0;31mNameError\u001b[0m                                 Traceback (most recent call last)",
      "Cell \u001b[0;32mIn[2], line 1\u001b[0m\n\u001b[0;32m----> 1\u001b[0m df \u001b[38;5;241m=\u001b[39m pd\u001b[38;5;241m.\u001b[39mread_csv(\u001b[38;5;124m'\u001b[39m\u001b[38;5;124m/Users/emiliocastrolagunas/Desktop/Sem4/BI/Notebooks/Data/diabetes.csv\u001b[39m\u001b[38;5;124m'\u001b[39m)\n",
      "\u001b[0;31mNameError\u001b[0m: name 'pd' is not defined"
     ]
    }
   ],
   "source": [
    "df = pd.read_csv('/Users/emiliocastrolagunas/Desktop/Sem4/BI/Notebooks/Data/diabetes.csv')"
   ]
  },
  {
   "cell_type": "markdown",
   "id": "da65b1c0",
   "metadata": {},
   "source": [
    "### 2. Clean and explore the data and prepare it for clustering\n"
   ]
  },
  {
   "cell_type": "code",
   "execution_count": null,
   "id": "900abf3c",
   "metadata": {},
   "outputs": [],
   "source": []
  },
  {
   "cell_type": "markdown",
   "id": "86254884",
   "metadata": {},
   "source": [
    "### 3. Choose an unsupervised ML algorithm and apply it to create clusters of countries, based on their freedom assessment measure."
   ]
  },
  {
   "cell_type": "code",
   "execution_count": null,
   "id": "2d7cefad",
   "metadata": {},
   "outputs": [],
   "source": []
  },
  {
   "cell_type": "markdown",
   "id": "b4c06a30",
   "metadata": {},
   "source": [
    "### 4. Create a geographical map of the world and colours the countries on it to reflect on their freedom status (cluster)."
   ]
  },
  {
   "cell_type": "code",
   "execution_count": null,
   "id": "e880dba4",
   "metadata": {},
   "outputs": [],
   "source": []
  },
  {
   "cell_type": "code",
   "execution_count": null,
   "id": "bcdbbea3",
   "metadata": {},
   "outputs": [],
   "source": []
  }
 ],
 "metadata": {
  "kernelspec": {
   "display_name": "Python 3 (ipykernel)",
   "language": "python",
   "name": "python3"
  },
  "language_info": {
   "codemirror_mode": {
    "name": "ipython",
    "version": 3
   },
   "file_extension": ".py",
   "mimetype": "text/x-python",
   "name": "python",
   "nbconvert_exporter": "python",
   "pygments_lexer": "ipython3",
   "version": "3.11.4"
  }
 },
 "nbformat": 4,
 "nbformat_minor": 5
}
