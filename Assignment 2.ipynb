{
 "cells": [
  {
   "cell_type": "code",
   "execution_count": 4,
   "id": "391def92",
   "metadata": {},
   "outputs": [],
   "source": [
    "import cosimfunc\n",
    "from cosimfunc import cosim"
   ]
  },
  {
   "cell_type": "code",
   "execution_count": 5,
   "id": "ed7d26f9",
   "metadata": {},
   "outputs": [
    {
     "data": {
      "text/plain": [
       "<module 'cosimfunc' from 'C:\\\\Users\\\\Johan\\\\Desktop\\\\BI\\\\notebooks\\\\cosimfunc.py'>"
      ]
     },
     "execution_count": 5,
     "metadata": {},
     "output_type": "execute_result"
    }
   ],
   "source": [
    "import importlib \n",
    "importlib.reload(cosimfunc)"
   ]
  },
  {
   "cell_type": "code",
   "execution_count": 6,
   "id": "b736c864",
   "metadata": {},
   "outputs": [],
   "source": [
    "import numpy as np\n",
    "import pandas as pd\n",
    "import ctypes\n",
    "import math\n",
    "import pprint"
   ]
  },
  {
   "cell_type": "code",
   "execution_count": 7,
   "id": "5d8564cf",
   "metadata": {},
   "outputs": [],
   "source": [
    "doc1=\"The Great Wall of China is visible from space, but only under certain conditions.\"\n",
    "doc2=\"Honey never spoils\"\n",
    "doc3=\"Octopuses have three hearts: two pump blood to the gills, while the third pumps it to the rest of the body.\"\n",
    "\n",
    "q1=\"Which structure is visible from space\""
   ]
  },
  {
   "cell_type": "code",
   "execution_count": 8,
   "id": "834d0979",
   "metadata": {},
   "outputs": [],
   "source": [
    "def clean_string(input_string):\n",
    "    # Split the input string into words at spaces\n",
    "    words = input_string.split()\n",
    "    \n",
    "    # Clean each word by removing non-letter characters and converting to lowercase\n",
    "    cleaned_word = [''.join(char.lower() for char in word if char.isalpha()) for word in words]\n",
    "    \n",
    "    return cleaned_word"
   ]
  },
  {
   "cell_type": "code",
   "execution_count": 15,
   "id": "9b4676ce",
   "metadata": {},
   "outputs": [
    {
     "data": {
      "text/plain": [
       "['which', 'structure', 'is', 'visible', 'from', 'space']"
      ]
     },
     "execution_count": 15,
     "metadata": {},
     "output_type": "execute_result"
    }
   ],
   "source": [
    "sent1 = clean_string(doc1)\n",
    "sent2 = clean_string(doc2)\n",
    "sent3 = clean_string(doc3)\n",
    "sent_q=clean_string(q1)\n",
    "\n",
    "sent_q"
   ]
  },
  {
   "cell_type": "code",
   "execution_count": 10,
   "id": "7b97c081",
   "metadata": {},
   "outputs": [
    {
     "name": "stdout",
     "output_type": "stream",
     "text": [
      "{'three', 'hearts', 'pump', 'to', 'great', 'conditions', 'never', 'is', 'of', 'blood', 'wall', 'under', 'china', 'honey', 'third', 'but', 'pumps', 'certain', 'octopuses', 'while', 'space', 'from', 'have', 'spoils', 'visible', 'two', 'which', 'it', 'gills', 'only', 'structure', 'body', 'the', 'rest'}\n"
     ]
    },
    {
     "data": {
      "text/plain": [
       "34"
      ]
     },
     "execution_count": 10,
     "metadata": {},
     "output_type": "execute_result"
    }
   ],
   "source": [
    "#Making a set from the words\n",
    "corpus = set(sent1).union(set(sent2).union(set(sent3)).union(set(sent_q)))\n",
    "print(corpus)\n",
    "\n",
    "#finding size of corpus\n",
    "n = len(corpus)\n",
    "n"
   ]
  },
  {
   "cell_type": "code",
   "execution_count": 16,
   "id": "a6d28a05",
   "metadata": {},
   "outputs": [
    {
     "name": "stdout",
     "output_type": "stream",
     "text": [
      "{'three', 'hearts', 'pump', 'to', 'great', 'conditions', 'never', 'is', 'of', 'blood', 'wall', 'under', 'china', 'honey', 'third', 'but', 'pumps', 'certain', 'octopuses', 'while', 'space', 'from', 'have', 'spoils', 'visible', 'two', 'which', 'it', 'gills', 'only', 'structure', 'body', 'the', 'rest'}\n"
     ]
    }
   ],
   "source": [
    "corpus = set(sent1).union(set(sent2).union(set(sent3).union(set(sent_q))))\n",
    "print(corpus)"
   ]
  },
  {
   "cell_type": "code",
   "execution_count": 18,
   "id": "65aeb523",
   "metadata": {},
   "outputs": [],
   "source": [
    "# Create count vector from a sentence, telling the frequency of word appearance\n",
    "def cvect(sent):\n",
    "    \n",
    "    # creates the dict with the corpus as keys\n",
    "    mydict = dict.fromkeys(corpus, 0) \n",
    "    \n",
    "    # count the occurance of each word\n",
    "    for word in sent:\n",
    "        mydict[word] += 1\n",
    "    return mydict     "
   ]
  },
  {
   "cell_type": "code",
   "execution_count": 27,
   "id": "f4911f60",
   "metadata": {},
   "outputs": [],
   "source": [
    "dict1=cvect(sent1)\n",
    "dict2=cvect(sent2)\n",
    "dict3=cvect(sent3)\n",
    "dict_q=cvect(sent_q)\n"
   ]
  },
  {
   "cell_type": "code",
   "execution_count": 20,
   "id": "3e5f37e7",
   "metadata": {},
   "outputs": [
    {
     "data": {
      "text/html": [
       "<div>\n",
       "<style scoped>\n",
       "    .dataframe tbody tr th:only-of-type {\n",
       "        vertical-align: middle;\n",
       "    }\n",
       "\n",
       "    .dataframe tbody tr th {\n",
       "        vertical-align: top;\n",
       "    }\n",
       "\n",
       "    .dataframe thead th {\n",
       "        text-align: right;\n",
       "    }\n",
       "</style>\n",
       "<table border=\"1\" class=\"dataframe\">\n",
       "  <thead>\n",
       "    <tr style=\"text-align: right;\">\n",
       "      <th></th>\n",
       "      <th>three</th>\n",
       "      <th>hearts</th>\n",
       "      <th>pump</th>\n",
       "      <th>to</th>\n",
       "      <th>great</th>\n",
       "      <th>conditions</th>\n",
       "      <th>never</th>\n",
       "      <th>is</th>\n",
       "      <th>of</th>\n",
       "      <th>blood</th>\n",
       "      <th>...</th>\n",
       "      <th>visible</th>\n",
       "      <th>two</th>\n",
       "      <th>which</th>\n",
       "      <th>it</th>\n",
       "      <th>gills</th>\n",
       "      <th>only</th>\n",
       "      <th>structure</th>\n",
       "      <th>body</th>\n",
       "      <th>the</th>\n",
       "      <th>rest</th>\n",
       "    </tr>\n",
       "  </thead>\n",
       "  <tbody>\n",
       "    <tr>\n",
       "      <th>0</th>\n",
       "      <td>0</td>\n",
       "      <td>0</td>\n",
       "      <td>0</td>\n",
       "      <td>0</td>\n",
       "      <td>1</td>\n",
       "      <td>1</td>\n",
       "      <td>0</td>\n",
       "      <td>1</td>\n",
       "      <td>1</td>\n",
       "      <td>0</td>\n",
       "      <td>...</td>\n",
       "      <td>1</td>\n",
       "      <td>0</td>\n",
       "      <td>0</td>\n",
       "      <td>0</td>\n",
       "      <td>0</td>\n",
       "      <td>1</td>\n",
       "      <td>0</td>\n",
       "      <td>0</td>\n",
       "      <td>1</td>\n",
       "      <td>0</td>\n",
       "    </tr>\n",
       "    <tr>\n",
       "      <th>1</th>\n",
       "      <td>0</td>\n",
       "      <td>0</td>\n",
       "      <td>0</td>\n",
       "      <td>0</td>\n",
       "      <td>0</td>\n",
       "      <td>0</td>\n",
       "      <td>1</td>\n",
       "      <td>0</td>\n",
       "      <td>0</td>\n",
       "      <td>0</td>\n",
       "      <td>...</td>\n",
       "      <td>0</td>\n",
       "      <td>0</td>\n",
       "      <td>0</td>\n",
       "      <td>0</td>\n",
       "      <td>0</td>\n",
       "      <td>0</td>\n",
       "      <td>0</td>\n",
       "      <td>0</td>\n",
       "      <td>0</td>\n",
       "      <td>0</td>\n",
       "    </tr>\n",
       "    <tr>\n",
       "      <th>2</th>\n",
       "      <td>1</td>\n",
       "      <td>1</td>\n",
       "      <td>1</td>\n",
       "      <td>2</td>\n",
       "      <td>0</td>\n",
       "      <td>0</td>\n",
       "      <td>0</td>\n",
       "      <td>0</td>\n",
       "      <td>1</td>\n",
       "      <td>1</td>\n",
       "      <td>...</td>\n",
       "      <td>0</td>\n",
       "      <td>1</td>\n",
       "      <td>0</td>\n",
       "      <td>1</td>\n",
       "      <td>1</td>\n",
       "      <td>0</td>\n",
       "      <td>0</td>\n",
       "      <td>1</td>\n",
       "      <td>4</td>\n",
       "      <td>1</td>\n",
       "    </tr>\n",
       "    <tr>\n",
       "      <th>3</th>\n",
       "      <td>0</td>\n",
       "      <td>0</td>\n",
       "      <td>0</td>\n",
       "      <td>0</td>\n",
       "      <td>0</td>\n",
       "      <td>0</td>\n",
       "      <td>0</td>\n",
       "      <td>1</td>\n",
       "      <td>0</td>\n",
       "      <td>0</td>\n",
       "      <td>...</td>\n",
       "      <td>1</td>\n",
       "      <td>0</td>\n",
       "      <td>1</td>\n",
       "      <td>0</td>\n",
       "      <td>0</td>\n",
       "      <td>0</td>\n",
       "      <td>1</td>\n",
       "      <td>0</td>\n",
       "      <td>0</td>\n",
       "      <td>0</td>\n",
       "    </tr>\n",
       "  </tbody>\n",
       "</table>\n",
       "<p>4 rows × 34 columns</p>\n",
       "</div>"
      ],
      "text/plain": [
       "   three  hearts  pump  to  great  conditions  never  is  of  blood  ...  \\\n",
       "0      0       0     0   0      1           1      0   1   1      0  ...   \n",
       "1      0       0     0   0      0           0      1   0   0      0  ...   \n",
       "2      1       1     1   2      0           0      0   0   1      1  ...   \n",
       "3      0       0     0   0      0           0      0   1   0      0  ...   \n",
       "\n",
       "   visible  two  which  it  gills  only  structure  body  the  rest  \n",
       "0        1    0      0   0      0     1          0     0    1     0  \n",
       "1        0    0      0   0      0     0          0     0    0     0  \n",
       "2        0    1      0   1      1     0          0     1    4     1  \n",
       "3        1    0      1   0      0     0          1     0    0     0  \n",
       "\n",
       "[4 rows x 34 columns]"
      ]
     },
     "execution_count": 20,
     "metadata": {},
     "output_type": "execute_result"
    }
   ],
   "source": [
    "# collect the dictionaires in a data frame\n",
    "dfc = pd.DataFrame([dict1, dict2, dict3, dict_q])\n",
    "dfc"
   ]
  },
  {
   "cell_type": "code",
   "execution_count": 21,
   "id": "ede066a9",
   "metadata": {},
   "outputs": [
    {
     "name": "stdout",
     "output_type": "stream",
     "text": [
      "Cosine similarity:  0.4364357804719848\n",
      "Cosine similarity:  0.0\n",
      "Cosine similarity:  0.0\n"
     ]
    },
    {
     "data": {
      "text/plain": [
       "0.0"
      ]
     },
     "execution_count": 21,
     "metadata": {},
     "output_type": "execute_result"
    }
   ],
   "source": [
    "#NOTE\n",
    "#Make function that does all of this, for each loop from an array of dictionaries\n",
    "#\n",
    "#NOTE\n",
    "# Store the binary values into array\n",
    "arc = dfc.to_numpy()\n",
    "#comparing question with sentence 1, 2 and 3\n",
    "cosim(arc[3], arc[0])\n",
    "cosim(arc[3], arc[1])\n",
    "cosim(arc[3], arc[2])"
   ]
  },
  {
   "cell_type": "code",
   "execution_count": 22,
   "id": "d4b1828f",
   "metadata": {},
   "outputs": [],
   "source": [
    "# Recalculate the word appearance as a proportion of all words in the document\n",
    "def computeTF(mydict, n):\n",
    "    # New empty dict for the results of recalculation\n",
    "    tfDict = {}\n",
    "    \n",
    "    for word, wcount in mydict.items():\n",
    "        # calculate the proportion\n",
    "        tfDict[word] = wcount/float(n) \n",
    "    return(tfDict)"
   ]
  },
  {
   "cell_type": "code",
   "execution_count": 23,
   "id": "fcdaa707",
   "metadata": {},
   "outputs": [],
   "source": [
    "tf1=computeTF(dict1, len(sent1))\n",
    "tf2=computeTF(dict2, len(sent2))\n",
    "tf3=computeTF(dict3, len(sent3))\n",
    "tf_q=computeTF(dict_q, len(sent_q))"
   ]
  },
  {
   "cell_type": "code",
   "execution_count": 24,
   "id": "b57adf9e",
   "metadata": {},
   "outputs": [],
   "source": [
    "tff=pd.DataFrame([tf1, tf2, tf3, tf_q])"
   ]
  },
  {
   "cell_type": "code",
   "execution_count": 25,
   "id": "072715b1",
   "metadata": {},
   "outputs": [],
   "source": [
    "art = tff.to_numpy()"
   ]
  },
  {
   "cell_type": "code",
   "execution_count": 42,
   "id": "efd26c47",
   "metadata": {},
   "outputs": [
    {
     "name": "stdout",
     "output_type": "stream",
     "text": [
      "Cosine similarity:  0.4364357804719847\n",
      "Cosine similarity:  0.0\n",
      "Cosine similarity:  0.0\n"
     ]
    },
    {
     "data": {
      "text/plain": [
       "('The Great Wall of China is visible from space, but only under certain conditions.',\n",
       " 'Which structure is visible from space')"
      ]
     },
     "execution_count": 42,
     "metadata": {},
     "output_type": "execute_result"
    }
   ],
   "source": [
    "cosim(art[3], art[0])\n",
    "cosim(art[3], art[1])\n",
    "cosim(art[3], art[2])\n",
    "\n",
    "doc1, q1\n"
   ]
  },
  {
   "cell_type": "code",
   "execution_count": 51,
   "id": "895f977f",
   "metadata": {},
   "outputs": [],
   "source": [
    "###Works but original text needs to be printed\n",
    "def findClosestMatch(data, question):\n",
    "    dataL = len(data)\n",
    "    best_match = None\n",
    "    best_score = -1  # Initialize with a value less than 0\n",
    "\n",
    "    for d in data:\n",
    "        score = cosim(d, question)\n",
    "        if score < 1 and score > best_score:\n",
    "            best_score = score\n",
    "            best_match = d\n",
    "\n",
    "    if best_match is not None:\n",
    "        print(f\"The closest match to 1 is: {best_match}\")\n",
    "        print(best_score)\n",
    "    else:\n",
    "        print(\"No match found that is less than 1\")\n",
    "        "
   ]
  },
  {
   "cell_type": "code",
   "execution_count": 52,
   "id": "f598ac52",
   "metadata": {},
   "outputs": [
    {
     "name": "stdout",
     "output_type": "stream",
     "text": [
      "Cosine similarity:  0.4364357804719847\n",
      "Cosine similarity:  0.0\n",
      "Cosine similarity:  0.0\n",
      "Cosine similarity:  1.0000000000000002\n",
      "The closest match to 1 is: [0.         0.         0.         0.         0.07142857 0.07142857\n",
      " 0.         0.07142857 0.07142857 0.         0.07142857 0.07142857\n",
      " 0.07142857 0.         0.         0.07142857 0.         0.07142857\n",
      " 0.         0.         0.07142857 0.07142857 0.         0.\n",
      " 0.07142857 0.         0.         0.         0.         0.07142857\n",
      " 0.         0.         0.07142857 0.        ]\n",
      "0.4364357804719847\n"
     ]
    }
   ],
   "source": [
    "findClosestMatch(art, art[3])"
   ]
  },
  {
   "cell_type": "code",
   "execution_count": 28,
   "id": "92f50159",
   "metadata": {},
   "outputs": [],
   "source": [
    "def computeIDF(allDocs):\n",
    "    # number of documents\n",
    "    N = len(allDocs) \n",
    "\n",
    "    # create empty dict, put the words in as keys and 0 as value\n",
    "    idf = {}\n",
    "    idf = dict.fromkeys(allDocs[0].keys(), 0)    \n",
    "    \n",
    "    # check all docs \n",
    "    for doc in allDocs:\n",
    "        # check all words \n",
    "        for word, wcount in doc.items():\n",
    "            # count the doc if the word appears in it\n",
    "            if wcount > 0:\n",
    "                idf[word] += 1\n",
    "    \n",
    "    # make correction in the counting to avoid eventual division by zero: idf(t) = log10(N/(df + 1))\n",
    "    for word, wcount in idf.items():\n",
    "        idf[word] = math.log10(N/(float(wcount)) + 1)\n",
    "        \n",
    "    return(idf)"
   ]
  },
  {
   "cell_type": "code",
   "execution_count": 29,
   "id": "79012411",
   "metadata": {},
   "outputs": [],
   "source": [
    "idfs = computeIDF([dict1, dict2, dict3, dict_q])"
   ]
  },
  {
   "cell_type": "code",
   "execution_count": 30,
   "id": "570f7265",
   "metadata": {},
   "outputs": [
    {
     "name": "stdout",
     "output_type": "stream",
     "text": [
      "{'blood': 0.6989700043360189,\n",
      " 'body': 0.6989700043360189,\n",
      " 'but': 0.6989700043360189,\n",
      " 'certain': 0.6989700043360189,\n",
      " 'china': 0.6989700043360189,\n",
      " 'conditions': 0.6989700043360189,\n",
      " 'from': 0.47712125471966244,\n",
      " 'gills': 0.6989700043360189,\n",
      " 'great': 0.6989700043360189,\n",
      " 'have': 0.6989700043360189,\n",
      " 'hearts': 0.6989700043360189,\n",
      " 'honey': 0.6989700043360189,\n",
      " 'is': 0.47712125471966244,\n",
      " 'it': 0.6989700043360189,\n",
      " 'never': 0.6989700043360189,\n",
      " 'octopuses': 0.6989700043360189,\n",
      " 'of': 0.47712125471966244,\n",
      " 'only': 0.6989700043360189,\n",
      " 'pump': 0.6989700043360189,\n",
      " 'pumps': 0.6989700043360189,\n",
      " 'rest': 0.6989700043360189,\n",
      " 'space': 0.47712125471966244,\n",
      " 'spoils': 0.6989700043360189,\n",
      " 'structure': 0.6989700043360189,\n",
      " 'the': 0.47712125471966244,\n",
      " 'third': 0.6989700043360189,\n",
      " 'three': 0.6989700043360189,\n",
      " 'to': 0.6989700043360189,\n",
      " 'two': 0.6989700043360189,\n",
      " 'under': 0.6989700043360189,\n",
      " 'visible': 0.47712125471966244,\n",
      " 'wall': 0.6989700043360189,\n",
      " 'which': 0.6989700043360189,\n",
      " 'while': 0.6989700043360189}\n"
     ]
    }
   ],
   "source": [
    "pprint.pprint(idfs)"
   ]
  },
  {
   "cell_type": "code",
   "execution_count": 31,
   "id": "467bf05d",
   "metadata": {},
   "outputs": [],
   "source": [
    "# tf-idf(t, d) = tf(t, d) * idf(t, D)\n",
    "\n",
    "def computeTFIDF(tf, idfs):\n",
    "    tfidf = {}\n",
    "    for word, wcount in tf.items():\n",
    "        tfidf[word] = wcount*idfs[word]\n",
    "    return(tfidf)\n"
   ]
  },
  {
   "cell_type": "code",
   "execution_count": 32,
   "id": "ae65ec02",
   "metadata": {},
   "outputs": [],
   "source": [
    "#running our two sentences through the IDF:\n",
    "idf1 = computeTFIDF(tf1, idfs)\n",
    "idf2 = computeTFIDF(tf2, idfs)\n",
    "idf3 = computeTFIDF(tf3, idfs)\n",
    "idf_q = computeTFIDF(tf_q, idfs)"
   ]
  },
  {
   "cell_type": "code",
   "execution_count": 33,
   "id": "65c877ae",
   "metadata": {},
   "outputs": [
    {
     "data": {
      "text/html": [
       "<div>\n",
       "<style scoped>\n",
       "    .dataframe tbody tr th:only-of-type {\n",
       "        vertical-align: middle;\n",
       "    }\n",
       "\n",
       "    .dataframe tbody tr th {\n",
       "        vertical-align: top;\n",
       "    }\n",
       "\n",
       "    .dataframe thead th {\n",
       "        text-align: right;\n",
       "    }\n",
       "</style>\n",
       "<table border=\"1\" class=\"dataframe\">\n",
       "  <thead>\n",
       "    <tr style=\"text-align: right;\">\n",
       "      <th></th>\n",
       "      <th>three</th>\n",
       "      <th>hearts</th>\n",
       "      <th>pump</th>\n",
       "      <th>to</th>\n",
       "      <th>great</th>\n",
       "      <th>conditions</th>\n",
       "      <th>never</th>\n",
       "      <th>is</th>\n",
       "      <th>of</th>\n",
       "      <th>blood</th>\n",
       "      <th>...</th>\n",
       "      <th>visible</th>\n",
       "      <th>two</th>\n",
       "      <th>which</th>\n",
       "      <th>it</th>\n",
       "      <th>gills</th>\n",
       "      <th>only</th>\n",
       "      <th>structure</th>\n",
       "      <th>body</th>\n",
       "      <th>the</th>\n",
       "      <th>rest</th>\n",
       "    </tr>\n",
       "  </thead>\n",
       "  <tbody>\n",
       "    <tr>\n",
       "      <th>0</th>\n",
       "      <td>0.000000</td>\n",
       "      <td>0.000000</td>\n",
       "      <td>0.000000</td>\n",
       "      <td>0.000000</td>\n",
       "      <td>0.049926</td>\n",
       "      <td>0.049926</td>\n",
       "      <td>0.00000</td>\n",
       "      <td>0.03408</td>\n",
       "      <td>0.03408</td>\n",
       "      <td>0.000000</td>\n",
       "      <td>...</td>\n",
       "      <td>0.03408</td>\n",
       "      <td>0.000000</td>\n",
       "      <td>0.000000</td>\n",
       "      <td>0.000000</td>\n",
       "      <td>0.000000</td>\n",
       "      <td>0.049926</td>\n",
       "      <td>0.000000</td>\n",
       "      <td>0.000000</td>\n",
       "      <td>0.03408</td>\n",
       "      <td>0.000000</td>\n",
       "    </tr>\n",
       "    <tr>\n",
       "      <th>1</th>\n",
       "      <td>0.000000</td>\n",
       "      <td>0.000000</td>\n",
       "      <td>0.000000</td>\n",
       "      <td>0.000000</td>\n",
       "      <td>0.000000</td>\n",
       "      <td>0.000000</td>\n",
       "      <td>0.23299</td>\n",
       "      <td>0.00000</td>\n",
       "      <td>0.00000</td>\n",
       "      <td>0.000000</td>\n",
       "      <td>...</td>\n",
       "      <td>0.00000</td>\n",
       "      <td>0.000000</td>\n",
       "      <td>0.000000</td>\n",
       "      <td>0.000000</td>\n",
       "      <td>0.000000</td>\n",
       "      <td>0.000000</td>\n",
       "      <td>0.000000</td>\n",
       "      <td>0.000000</td>\n",
       "      <td>0.00000</td>\n",
       "      <td>0.000000</td>\n",
       "    </tr>\n",
       "    <tr>\n",
       "      <th>2</th>\n",
       "      <td>0.033284</td>\n",
       "      <td>0.033284</td>\n",
       "      <td>0.033284</td>\n",
       "      <td>0.066569</td>\n",
       "      <td>0.000000</td>\n",
       "      <td>0.000000</td>\n",
       "      <td>0.00000</td>\n",
       "      <td>0.00000</td>\n",
       "      <td>0.02272</td>\n",
       "      <td>0.033284</td>\n",
       "      <td>...</td>\n",
       "      <td>0.00000</td>\n",
       "      <td>0.033284</td>\n",
       "      <td>0.000000</td>\n",
       "      <td>0.033284</td>\n",
       "      <td>0.033284</td>\n",
       "      <td>0.000000</td>\n",
       "      <td>0.000000</td>\n",
       "      <td>0.033284</td>\n",
       "      <td>0.09088</td>\n",
       "      <td>0.033284</td>\n",
       "    </tr>\n",
       "    <tr>\n",
       "      <th>3</th>\n",
       "      <td>0.000000</td>\n",
       "      <td>0.000000</td>\n",
       "      <td>0.000000</td>\n",
       "      <td>0.000000</td>\n",
       "      <td>0.000000</td>\n",
       "      <td>0.000000</td>\n",
       "      <td>0.00000</td>\n",
       "      <td>0.07952</td>\n",
       "      <td>0.00000</td>\n",
       "      <td>0.000000</td>\n",
       "      <td>...</td>\n",
       "      <td>0.07952</td>\n",
       "      <td>0.000000</td>\n",
       "      <td>0.116495</td>\n",
       "      <td>0.000000</td>\n",
       "      <td>0.000000</td>\n",
       "      <td>0.000000</td>\n",
       "      <td>0.116495</td>\n",
       "      <td>0.000000</td>\n",
       "      <td>0.00000</td>\n",
       "      <td>0.000000</td>\n",
       "    </tr>\n",
       "  </tbody>\n",
       "</table>\n",
       "<p>4 rows × 34 columns</p>\n",
       "</div>"
      ],
      "text/plain": [
       "      three    hearts      pump        to     great  conditions    never  \\\n",
       "0  0.000000  0.000000  0.000000  0.000000  0.049926    0.049926  0.00000   \n",
       "1  0.000000  0.000000  0.000000  0.000000  0.000000    0.000000  0.23299   \n",
       "2  0.033284  0.033284  0.033284  0.066569  0.000000    0.000000  0.00000   \n",
       "3  0.000000  0.000000  0.000000  0.000000  0.000000    0.000000  0.00000   \n",
       "\n",
       "        is       of     blood  ...  visible       two     which        it  \\\n",
       "0  0.03408  0.03408  0.000000  ...  0.03408  0.000000  0.000000  0.000000   \n",
       "1  0.00000  0.00000  0.000000  ...  0.00000  0.000000  0.000000  0.000000   \n",
       "2  0.00000  0.02272  0.033284  ...  0.00000  0.033284  0.000000  0.033284   \n",
       "3  0.07952  0.00000  0.000000  ...  0.07952  0.000000  0.116495  0.000000   \n",
       "\n",
       "      gills      only  structure      body      the      rest  \n",
       "0  0.000000  0.049926   0.000000  0.000000  0.03408  0.000000  \n",
       "1  0.000000  0.000000   0.000000  0.000000  0.00000  0.000000  \n",
       "2  0.033284  0.000000   0.000000  0.033284  0.09088  0.033284  \n",
       "3  0.000000  0.000000   0.116495  0.000000  0.00000  0.000000  \n",
       "\n",
       "[4 rows x 34 columns]"
      ]
     },
     "execution_count": 33,
     "metadata": {},
     "output_type": "execute_result"
    }
   ],
   "source": [
    "idf= pd.DataFrame([idf1, idf2, idf3, idf_q])\n",
    "idf"
   ]
  },
  {
   "cell_type": "code",
   "execution_count": 34,
   "id": "0ee655d7",
   "metadata": {},
   "outputs": [],
   "source": [
    "arx = idf.to_numpy()"
   ]
  },
  {
   "cell_type": "code",
   "execution_count": 35,
   "id": "7e5962d3",
   "metadata": {},
   "outputs": [
    {
     "name": "stdout",
     "output_type": "stream",
     "text": [
      "Cosine similarity:  0.0\n"
     ]
    },
    {
     "data": {
      "text/plain": [
       "0.0"
      ]
     },
     "execution_count": 35,
     "metadata": {},
     "output_type": "execute_result"
    }
   ],
   "source": [
    "cosim(arx[0], arx[1])"
   ]
  },
  {
   "cell_type": "code",
   "execution_count": 37,
   "id": "38b71b3e",
   "metadata": {},
   "outputs": [
    {
     "name": "stdout",
     "output_type": "stream",
     "text": [
      "Cosine similarity:  0.13927000718270718\n"
     ]
    },
    {
     "data": {
      "text/plain": [
       "0.13927000718270718"
      ]
     },
     "execution_count": 37,
     "metadata": {},
     "output_type": "execute_result"
    }
   ],
   "source": [
    "cosim(arx[0], arx[2])"
   ]
  },
  {
   "cell_type": "code",
   "execution_count": 38,
   "id": "ebb759de",
   "metadata": {},
   "outputs": [
    {
     "name": "stdout",
     "output_type": "stream",
     "text": [
      "Cosine similarity:  0.28858071046544725\n"
     ]
    },
    {
     "data": {
      "text/plain": [
       "0.28858071046544725"
      ]
     },
     "execution_count": 38,
     "metadata": {},
     "output_type": "execute_result"
    }
   ],
   "source": [
    "cosim(arx[0], arx[3])"
   ]
  },
  {
   "cell_type": "code",
   "execution_count": 39,
   "id": "21752cc3",
   "metadata": {},
   "outputs": [],
   "source": [
    "def tokenize(text):\n",
    "    lang = detect(text)\n",
    "    if lang == 'en': \n",
    "        model = 'en_core_web_md'\n",
    "        from spacy.lang.en.stop_words import STOP_WORDS\n",
    "    elif lang == 'da': \n",
    "        model = 'da_core_news_md'\n",
    "        from spacy.lang.da.stop_words import STOP_WORDS\n",
    "    else:\n",
    "         print(\"Wrong language\")\n",
    "        \n",
    "    mysent = []\n",
    "    nlp = spacy.load(model)\n",
    "    doc = nlp(text)\n",
    "    \n",
    "    for token in doc:\n",
    "        if not (token.is_stop or token.is_punct or token.is_space):\n",
    "            mysent.append(token.text)\n",
    "    return mysent"
   ]
  },
  {
   "cell_type": "code",
   "execution_count": 40,
   "id": "57b3fc77",
   "metadata": {},
   "outputs": [
    {
     "data": {
      "text/plain": [
       "array([0.        , 0.        , 0.        , 0.        , 0.04992643,\n",
       "       0.04992643, 0.        , 0.03408009, 0.03408009, 0.        ,\n",
       "       0.04992643, 0.04992643, 0.04992643, 0.        , 0.        ,\n",
       "       0.04992643, 0.        , 0.04992643, 0.        , 0.        ,\n",
       "       0.03408009, 0.03408009, 0.        , 0.        , 0.03408009,\n",
       "       0.        , 0.        , 0.        , 0.        , 0.04992643,\n",
       "       0.        , 0.        , 0.03408009, 0.        ])"
      ]
     },
     "execution_count": 40,
     "metadata": {},
     "output_type": "execute_result"
    }
   ],
   "source": []
  },
  {
   "cell_type": "code",
   "execution_count": null,
   "id": "27e26850",
   "metadata": {},
   "outputs": [],
   "source": []
  }
 ],
 "metadata": {
  "kernelspec": {
   "display_name": "Python 3 (ipykernel)",
   "language": "python",
   "name": "python3"
  },
  "language_info": {
   "codemirror_mode": {
    "name": "ipython",
    "version": 3
   },
   "file_extension": ".py",
   "mimetype": "text/x-python",
   "name": "python",
   "nbconvert_exporter": "python",
   "pygments_lexer": "ipython3",
   "version": "3.11.4"
  }
 },
 "nbformat": 4,
 "nbformat_minor": 5
}
