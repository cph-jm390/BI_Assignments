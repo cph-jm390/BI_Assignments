{
 "cells": [
  {
   "cell_type": "code",
   "execution_count": 4,
   "id": "d947553e",
   "metadata": {},
   "outputs": [],
   "source": [
    "import pandas as pd\n",
    "import matplotlib.pyplot as plt\n",
    "from matplotlib.image import imread\n",
    "\n",
    "\n",
    "def readJPG():\n",
    "# Read the image\n",
    "    image_path = '../Data/iconicPic.jpg'\n",
    "    image_data = [imread(image_path)]\n",
    "\n",
    "#  DataFrame\n",
    "    W = {'img': image_data}\n",
    "    df = pd.DataFrame(W)\n",
    "\n",
    "# Display the image\n",
    "    plt.imshow(df.img[0])\n",
    "    plt.show()\n",
    "\n",
    "readJPG\n"
   ]
  },
  {
   "cell_type": "code",
   "execution_count": null,
   "id": "3542e1df",
   "metadata": {},
   "outputs": [],
   "source": []
  }
 ],
 "metadata": {
  "kernelspec": {
   "display_name": "Python 3 (ipykernel)",
   "language": "python",
   "name": "python3"
  },
  "language_info": {
   "codemirror_mode": {
    "name": "ipython",
    "version": 3
   },
   "file_extension": ".py",
   "mimetype": "text/x-python",
   "name": "python",
   "nbconvert_exporter": "python",
   "pygments_lexer": "ipython3",
   "version": "3.11.4"
  }
 },
 "nbformat": 4,
 "nbformat_minor": 5
}
